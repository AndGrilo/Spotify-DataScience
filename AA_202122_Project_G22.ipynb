{
 "cells": [
  {
   "cell_type": "markdown",
   "metadata": {},
   "source": [
    "# Machine Learning / Aprendizagem Automática\n",
    "\n",
    "## André Grilo, David Silva, Tiago Gonçalves, and Rodrigo Simões, 2021/22\n",
    "\n",
    "# ML Project  - Learning about Hit Songs"
   ]
  },
  {
   "cell_type": "markdown",
   "metadata": {},
   "source": [
    "# Dataset\n",
    "\n",
    "The dataset to be analysed is **`Spotify_dataset.csv`**, made available together with this project description. This dataset, downloaded from [Kaggle](https://www.kaggle.com), contains selected data from the following dataset: [Hit Predictor](https://www.kaggle.com/theoverman/the-spotify-hit-predictor-dataset). **You are encouraged to research the datasets page to learn more about the data**.\n",
    "\n",
    "The **`Spotify_dataset.csv`** has **41 106 instances** described by **20 data fields** that you might use as **categorical/numerical features**.\n",
    "\n",
    "### File Descriptions\n",
    "\n",
    "* **Spotify_dataset.csv** - Tabular/text data to be used in the machine learning tasks.\n",
    "\n",
    "\n",
    "### Data Fields\n",
    "\n",
    "* **track** - The Name of the track.\n",
    "* **artist** - The Name of the Artist.\n",
    "* **danceability** - Danceability describes how suitable a track is for dancing based on a combination of musical elements including tempo, rhythm stability, beat strength, and overall regularity. A value of 0.0 is least danceable and 1.0 is most danceable. \n",
    "* **energy** - Energy is a measure from 0.0 to 1.0 and represents a perceptual measure of intensity and activity. Typically, energetic tracks feel fast, loud, and noisy. For example, death metal has high energy, while a Bach prelude scores low on the scale. Perceptual features contributing to this attribute include dynamic range, perceived loudness, timbre, onset rate, and general entropy. \n",
    "* **key** - The estimated overall key of the track. Integers map to pitches using standard Pitch Class notation. E.g. 0 = C, 1 = C?/D?, 2 = D, and so on. If no key was detected, the value is -1.\n",
    "* **loudness** - The overall loudness of a track in decibels (dB). Loudness values are averaged across the entire track and are useful for comparing relative loudness of tracks. Loudness is the quality of a sound that is the primary psychological correlate of physical strength (amplitude). Values typical range between -60 and 0 db. \n",
    "* **mode** - Mode indicates the modality (major or minor) of a track, the type of scale from which its melodic content is derived. Major is represented by 1 and minor is 0.\n",
    "* **speechiness** - Speechiness detects the presence of spoken words in a track. The more exclusively speech-like the recording (e.g. talk show, audio book, poetry), the closer to 1.0 the attribute value. Values above 0.66 describe tracks that are probably made entirely of spoken words. Values between 0.33 and 0.66 describe tracks that may contain both music and speech, either in sections or layered, including such cases as rap music. Values below 0.33 most likely represent music and other non-speech-like tracks. \n",
    "* **acousticness** - A confidence measure from 0.0 to 1.0 of whether the track is acoustic. 1.0 represents high confidence the track is acoustic. The distribution of values for this feature look like this:\n",
    "* **instrumentalness** - Predicts whether a track contains no vocals. “Ooh” and “aah” sounds are treated as instrumental in this context. Rap or spoken word tracks are clearly “vocal”. The closer the instrumentalness value is to 1.0, the greater likelihood the track contains no vocal content. Values above 0.5 are intended to represent instrumental tracks, but confidence is higher as the value approaches 1.0. The distribution of values for this feature look like this:\n",
    "* **liveness** - Detects the presence of an audience in the recording. Higher liveness values represent an increased probability that the track was performed live. A value above 0.8 provides strong likelihood that the track is live.\n",
    "* **valence** - A measure from 0.0 to 1.0 describing the musical positiveness conveyed by a track. Tracks with high valence sound more positive (e.g. happy, cheerful, euphoric), while tracks with low valence sound more negative (e.g. sad, depressed, angry).\n",
    "* **tempo** - The overall estimated tempo of a track in beats per minute (BPM). In musical terminology, tempo is the speed or pace of a given piece and derives directly from the average beat duration. \n",
    "* **duration_ms** - The duration of the track in milliseconds.\n",
    "* **time_signature** - An estimated overall time signature of a track. The time signature (meter) is a notational convention to specify how many beats are in each bar (or measure).\n",
    "* **chorus_hit** - This the the author's best estimate of when the chorus would start for the track. Its the timestamp of the start of the third section of the track.\n",
    "* **sections** - The number of sections the particular track has. This feature was extracted from the data received by the API call for Audio Analysis of that particular track.\n",
    "* **decade** - The decade in which the track was released. It can take on the following values: '60s', '70s', '80s', '90s', '00s', '10s'.\n",
    "* **hit** - Hit or flop? It can be either 0 or 1. 1 implies that this song has featured in the weekly list (Issued by Billboards) of Hot-100 tracks in that decade at least once and is therefore a hit. 0 Implies that the track is a flop.\n",
    "\n",
    "### Valence\n",
    "\n",
    "For the multiclass classification task, predicting discrete valence, we will create a new column/feature named `DISCRETE_VALENCE`, whose values are obtained by binning the feature `valence` using the following range of values:\n",
    "\n",
    "* `Negative` - [0, 0.33]\n",
    "* `Neutral` - (0.33, 0.66]\n",
    "* `Positive` - (0.66, 1]"
   ]
  },
  {
   "cell_type": "markdown",
   "metadata": {},
   "source": [
    "## Task 0 (Know your Data) - Exploratory Data Analysis"
   ]
  },
  {
   "cell_type": "markdown",
   "metadata": {},
   "source": [
    "## 0.1 Prepare enviroment"
   ]
  },
  {
   "cell_type": "markdown",
   "metadata": {},
   "source": [
    "pip install kneed"
   ]
  },
  {
   "cell_type": "code",
   "execution_count": 1,
   "metadata": {},
   "outputs": [],
   "source": [
    "import pandas as pd\n",
    "import numpy as np\n",
    "from sklearn.model_selection import train_test_split\n",
    "import matplotlib.pyplot as plt\n",
    "from kneed import KneeLocator, DataGenerator as dg\n",
    "from sklearn.metrics import silhouette_score"
   ]
  },
  {
   "cell_type": "markdown",
   "metadata": {},
   "source": [
    "## 0.2. Loading Data"
   ]
  },
  {
   "cell_type": "code",
   "execution_count": 2,
   "metadata": {},
   "outputs": [],
   "source": [
    "spotify_data = pd.read_csv(\"Spotify_dataset.csv\")"
   ]
  },
  {
   "cell_type": "markdown",
   "metadata": {},
   "source": [
    "## 0.3. Cleaning Data"
   ]
  },
  {
   "cell_type": "markdown",
   "metadata": {},
   "source": [
    "As we were looking at the data we found some strange data that was cleary errors. Because of this we first perform data cleaning of those errors."
   ]
  },
  {
   "cell_type": "code",
   "execution_count": 3,
   "metadata": {},
   "outputs": [
    {
     "data": {
      "text/html": [
       "<div>\n",
       "<style scoped>\n",
       "    .dataframe tbody tr th:only-of-type {\n",
       "        vertical-align: middle;\n",
       "    }\n",
       "\n",
       "    .dataframe tbody tr th {\n",
       "        vertical-align: top;\n",
       "    }\n",
       "\n",
       "    .dataframe thead th {\n",
       "        text-align: right;\n",
       "    }\n",
       "</style>\n",
       "<table border=\"1\" class=\"dataframe\">\n",
       "  <thead>\n",
       "    <tr style=\"text-align: right;\">\n",
       "      <th></th>\n",
       "      <th>track</th>\n",
       "      <th>artist</th>\n",
       "      <th>uri</th>\n",
       "      <th>decade</th>\n",
       "    </tr>\n",
       "  </thead>\n",
       "  <tbody>\n",
       "    <tr>\n",
       "      <th>count</th>\n",
       "      <td>41106</td>\n",
       "      <td>41106</td>\n",
       "      <td>41106</td>\n",
       "      <td>41106</td>\n",
       "    </tr>\n",
       "    <tr>\n",
       "      <th>unique</th>\n",
       "      <td>35860</td>\n",
       "      <td>11904</td>\n",
       "      <td>40560</td>\n",
       "      <td>6</td>\n",
       "    </tr>\n",
       "    <tr>\n",
       "      <th>top</th>\n",
       "      <td>Falling</td>\n",
       "      <td>Traditional</td>\n",
       "      <td>spotify:track:0wz1LjDb9ZNEYwOmDJ3Q4b</td>\n",
       "      <td>60s</td>\n",
       "    </tr>\n",
       "    <tr>\n",
       "      <th>freq</th>\n",
       "      <td>17</td>\n",
       "      <td>207</td>\n",
       "      <td>3</td>\n",
       "      <td>8642</td>\n",
       "    </tr>\n",
       "  </tbody>\n",
       "</table>\n",
       "</div>"
      ],
      "text/plain": [
       "          track       artist                                   uri decade\n",
       "count     41106        41106                                 41106  41106\n",
       "unique    35860        11904                                 40560      6\n",
       "top     Falling  Traditional  spotify:track:0wz1LjDb9ZNEYwOmDJ3Q4b    60s\n",
       "freq         17          207                                     3   8642"
      ]
     },
     "execution_count": 3,
     "metadata": {},
     "output_type": "execute_result"
    }
   ],
   "source": [
    "spotify_data.describe(include=object)"
   ]
  },
  {
   "cell_type": "code",
   "execution_count": 4,
   "metadata": {},
   "outputs": [
    {
     "data": {
      "text/html": [
       "<div>\n",
       "<style scoped>\n",
       "    .dataframe tbody tr th:only-of-type {\n",
       "        vertical-align: middle;\n",
       "    }\n",
       "\n",
       "    .dataframe tbody tr th {\n",
       "        vertical-align: top;\n",
       "    }\n",
       "\n",
       "    .dataframe thead th {\n",
       "        text-align: right;\n",
       "    }\n",
       "</style>\n",
       "<table border=\"1\" class=\"dataframe\">\n",
       "  <thead>\n",
       "    <tr style=\"text-align: right;\">\n",
       "      <th></th>\n",
       "      <th>danceability</th>\n",
       "      <th>energy</th>\n",
       "      <th>key</th>\n",
       "      <th>loudness</th>\n",
       "      <th>mode</th>\n",
       "      <th>speechiness</th>\n",
       "      <th>acousticness</th>\n",
       "      <th>instrumentalness</th>\n",
       "      <th>liveness</th>\n",
       "      <th>valence</th>\n",
       "      <th>tempo</th>\n",
       "      <th>duration_ms</th>\n",
       "      <th>time_signature</th>\n",
       "      <th>chorus_hit</th>\n",
       "      <th>sections</th>\n",
       "      <th>hit</th>\n",
       "    </tr>\n",
       "  </thead>\n",
       "  <tbody>\n",
       "    <tr>\n",
       "      <th>mean</th>\n",
       "      <td>0.539695</td>\n",
       "      <td>0.579545</td>\n",
       "      <td>5.213594</td>\n",
       "      <td>-10.221525</td>\n",
       "      <td>0.693354</td>\n",
       "      <td>0.072960</td>\n",
       "      <td>0.364197</td>\n",
       "      <td>0.154416</td>\n",
       "      <td>0.201535</td>\n",
       "      <td>0.542440</td>\n",
       "      <td>119.338249</td>\n",
       "      <td>2.348776e+05</td>\n",
       "      <td>3.893689</td>\n",
       "      <td>40.106041</td>\n",
       "      <td>10.475673</td>\n",
       "      <td>0.500000</td>\n",
       "    </tr>\n",
       "    <tr>\n",
       "      <th>std</th>\n",
       "      <td>0.177821</td>\n",
       "      <td>0.252628</td>\n",
       "      <td>3.534977</td>\n",
       "      <td>5.311626</td>\n",
       "      <td>0.461107</td>\n",
       "      <td>0.086112</td>\n",
       "      <td>0.338913</td>\n",
       "      <td>0.303530</td>\n",
       "      <td>0.172959</td>\n",
       "      <td>0.267329</td>\n",
       "      <td>29.098845</td>\n",
       "      <td>1.189674e+05</td>\n",
       "      <td>0.423073</td>\n",
       "      <td>19.005515</td>\n",
       "      <td>4.871850</td>\n",
       "      <td>0.500006</td>\n",
       "    </tr>\n",
       "    <tr>\n",
       "      <th>min</th>\n",
       "      <td>0.000000</td>\n",
       "      <td>0.000251</td>\n",
       "      <td>0.000000</td>\n",
       "      <td>-49.253000</td>\n",
       "      <td>0.000000</td>\n",
       "      <td>0.000000</td>\n",
       "      <td>0.000000</td>\n",
       "      <td>0.000000</td>\n",
       "      <td>0.013000</td>\n",
       "      <td>0.000000</td>\n",
       "      <td>0.000000</td>\n",
       "      <td>1.516800e+04</td>\n",
       "      <td>0.000000</td>\n",
       "      <td>0.000000</td>\n",
       "      <td>0.000000</td>\n",
       "      <td>0.000000</td>\n",
       "    </tr>\n",
       "    <tr>\n",
       "      <th>25%</th>\n",
       "      <td>0.420000</td>\n",
       "      <td>0.396000</td>\n",
       "      <td>2.000000</td>\n",
       "      <td>-12.816000</td>\n",
       "      <td>0.000000</td>\n",
       "      <td>0.033700</td>\n",
       "      <td>0.039400</td>\n",
       "      <td>0.000000</td>\n",
       "      <td>0.094000</td>\n",
       "      <td>0.330000</td>\n",
       "      <td>97.397000</td>\n",
       "      <td>1.729278e+05</td>\n",
       "      <td>4.000000</td>\n",
       "      <td>27.599792</td>\n",
       "      <td>8.000000</td>\n",
       "      <td>0.000000</td>\n",
       "    </tr>\n",
       "    <tr>\n",
       "      <th>50%</th>\n",
       "      <td>0.552000</td>\n",
       "      <td>0.601000</td>\n",
       "      <td>5.000000</td>\n",
       "      <td>-9.257000</td>\n",
       "      <td>1.000000</td>\n",
       "      <td>0.043400</td>\n",
       "      <td>0.258000</td>\n",
       "      <td>0.000120</td>\n",
       "      <td>0.132000</td>\n",
       "      <td>0.558000</td>\n",
       "      <td>117.565000</td>\n",
       "      <td>2.179070e+05</td>\n",
       "      <td>4.000000</td>\n",
       "      <td>35.850795</td>\n",
       "      <td>10.000000</td>\n",
       "      <td>0.500000</td>\n",
       "    </tr>\n",
       "    <tr>\n",
       "      <th>75%</th>\n",
       "      <td>0.669000</td>\n",
       "      <td>0.787000</td>\n",
       "      <td>8.000000</td>\n",
       "      <td>-6.374250</td>\n",
       "      <td>1.000000</td>\n",
       "      <td>0.069800</td>\n",
       "      <td>0.676000</td>\n",
       "      <td>0.061250</td>\n",
       "      <td>0.261000</td>\n",
       "      <td>0.768000</td>\n",
       "      <td>136.494000</td>\n",
       "      <td>2.667730e+05</td>\n",
       "      <td>4.000000</td>\n",
       "      <td>47.625615</td>\n",
       "      <td>12.000000</td>\n",
       "      <td>1.000000</td>\n",
       "    </tr>\n",
       "    <tr>\n",
       "      <th>max</th>\n",
       "      <td>0.988000</td>\n",
       "      <td>1.000000</td>\n",
       "      <td>11.000000</td>\n",
       "      <td>3.744000</td>\n",
       "      <td>1.000000</td>\n",
       "      <td>0.960000</td>\n",
       "      <td>0.996000</td>\n",
       "      <td>1.000000</td>\n",
       "      <td>0.999000</td>\n",
       "      <td>0.996000</td>\n",
       "      <td>241.423000</td>\n",
       "      <td>4.170227e+06</td>\n",
       "      <td>5.000000</td>\n",
       "      <td>433.182000</td>\n",
       "      <td>169.000000</td>\n",
       "      <td>1.000000</td>\n",
       "    </tr>\n",
       "  </tbody>\n",
       "</table>\n",
       "</div>"
      ],
      "text/plain": [
       "      danceability    energy        key   loudness      mode  speechiness  \\\n",
       "mean      0.539695  0.579545   5.213594 -10.221525  0.693354     0.072960   \n",
       "std       0.177821  0.252628   3.534977   5.311626  0.461107     0.086112   \n",
       "min       0.000000  0.000251   0.000000 -49.253000  0.000000     0.000000   \n",
       "25%       0.420000  0.396000   2.000000 -12.816000  0.000000     0.033700   \n",
       "50%       0.552000  0.601000   5.000000  -9.257000  1.000000     0.043400   \n",
       "75%       0.669000  0.787000   8.000000  -6.374250  1.000000     0.069800   \n",
       "max       0.988000  1.000000  11.000000   3.744000  1.000000     0.960000   \n",
       "\n",
       "      acousticness  instrumentalness  liveness   valence       tempo  \\\n",
       "mean      0.364197          0.154416  0.201535  0.542440  119.338249   \n",
       "std       0.338913          0.303530  0.172959  0.267329   29.098845   \n",
       "min       0.000000          0.000000  0.013000  0.000000    0.000000   \n",
       "25%       0.039400          0.000000  0.094000  0.330000   97.397000   \n",
       "50%       0.258000          0.000120  0.132000  0.558000  117.565000   \n",
       "75%       0.676000          0.061250  0.261000  0.768000  136.494000   \n",
       "max       0.996000          1.000000  0.999000  0.996000  241.423000   \n",
       "\n",
       "       duration_ms  time_signature  chorus_hit    sections       hit  \n",
       "mean  2.348776e+05        3.893689   40.106041   10.475673  0.500000  \n",
       "std   1.189674e+05        0.423073   19.005515    4.871850  0.500006  \n",
       "min   1.516800e+04        0.000000    0.000000    0.000000  0.000000  \n",
       "25%   1.729278e+05        4.000000   27.599792    8.000000  0.000000  \n",
       "50%   2.179070e+05        4.000000   35.850795   10.000000  0.500000  \n",
       "75%   2.667730e+05        4.000000   47.625615   12.000000  1.000000  \n",
       "max   4.170227e+06        5.000000  433.182000  169.000000  1.000000  "
      ]
     },
     "execution_count": 4,
     "metadata": {},
     "output_type": "execute_result"
    }
   ],
   "source": [
    "spotify_data.describe().drop(\"count\")"
   ]
  },
  {
   "cell_type": "markdown",
   "metadata": {},
   "source": [
    "Here we can see something odd. There are a few tracks with the exact same uri, which should not happen. Lets print the top one so see it with more detail.\\\n",
    "Another value that does not make sense is the max loudness being 3.7"
   ]
  },
  {
   "cell_type": "code",
   "execution_count": 5,
   "metadata": {},
   "outputs": [
    {
     "data": {
      "text/html": [
       "<div>\n",
       "<style scoped>\n",
       "    .dataframe tbody tr th:only-of-type {\n",
       "        vertical-align: middle;\n",
       "    }\n",
       "\n",
       "    .dataframe tbody tr th {\n",
       "        vertical-align: top;\n",
       "    }\n",
       "\n",
       "    .dataframe thead th {\n",
       "        text-align: right;\n",
       "    }\n",
       "</style>\n",
       "<table border=\"1\" class=\"dataframe\">\n",
       "  <thead>\n",
       "    <tr style=\"text-align: right;\">\n",
       "      <th></th>\n",
       "      <th>track</th>\n",
       "      <th>artist</th>\n",
       "      <th>uri</th>\n",
       "      <th>danceability</th>\n",
       "      <th>energy</th>\n",
       "      <th>key</th>\n",
       "      <th>loudness</th>\n",
       "      <th>mode</th>\n",
       "      <th>speechiness</th>\n",
       "      <th>acousticness</th>\n",
       "      <th>instrumentalness</th>\n",
       "      <th>liveness</th>\n",
       "      <th>valence</th>\n",
       "      <th>tempo</th>\n",
       "      <th>duration_ms</th>\n",
       "      <th>time_signature</th>\n",
       "      <th>chorus_hit</th>\n",
       "      <th>sections</th>\n",
       "      <th>decade</th>\n",
       "      <th>hit</th>\n",
       "    </tr>\n",
       "  </thead>\n",
       "  <tbody>\n",
       "    <tr>\n",
       "      <th>1682</th>\n",
       "      <td>Back To Life</td>\n",
       "      <td>Soul II Soul</td>\n",
       "      <td>spotify:track:7vvRkLPIvfjjmCIqNxBuEZ</td>\n",
       "      <td>0.817</td>\n",
       "      <td>0.485</td>\n",
       "      <td>7</td>\n",
       "      <td>-11.659</td>\n",
       "      <td>1</td>\n",
       "      <td>0.143</td>\n",
       "      <td>0.0525</td>\n",
       "      <td>0.00021</td>\n",
       "      <td>0.0391</td>\n",
       "      <td>0.672</td>\n",
       "      <td>100.978</td>\n",
       "      <td>228267</td>\n",
       "      <td>4</td>\n",
       "      <td>48.97966</td>\n",
       "      <td>10</td>\n",
       "      <td>90s</td>\n",
       "      <td>1</td>\n",
       "    </tr>\n",
       "    <tr>\n",
       "      <th>7705</th>\n",
       "      <td>Back To Life</td>\n",
       "      <td>Soul II Soul</td>\n",
       "      <td>spotify:track:7vvRkLPIvfjjmCIqNxBuEZ</td>\n",
       "      <td>0.817</td>\n",
       "      <td>0.485</td>\n",
       "      <td>7</td>\n",
       "      <td>-11.659</td>\n",
       "      <td>1</td>\n",
       "      <td>0.143</td>\n",
       "      <td>0.0525</td>\n",
       "      <td>0.00021</td>\n",
       "      <td>0.0391</td>\n",
       "      <td>0.672</td>\n",
       "      <td>100.978</td>\n",
       "      <td>228267</td>\n",
       "      <td>4</td>\n",
       "      <td>48.97966</td>\n",
       "      <td>10</td>\n",
       "      <td>80s</td>\n",
       "      <td>1</td>\n",
       "    </tr>\n",
       "    <tr>\n",
       "      <th>8651</th>\n",
       "      <td>Keep On Movin'</td>\n",
       "      <td>Soul II Soul (Featuring Caron Wheeler)</td>\n",
       "      <td>spotify:track:7vvRkLPIvfjjmCIqNxBuEZ</td>\n",
       "      <td>0.817</td>\n",
       "      <td>0.485</td>\n",
       "      <td>7</td>\n",
       "      <td>-11.659</td>\n",
       "      <td>1</td>\n",
       "      <td>0.143</td>\n",
       "      <td>0.0525</td>\n",
       "      <td>0.00021</td>\n",
       "      <td>0.0391</td>\n",
       "      <td>0.672</td>\n",
       "      <td>100.978</td>\n",
       "      <td>228267</td>\n",
       "      <td>4</td>\n",
       "      <td>48.97966</td>\n",
       "      <td>10</td>\n",
       "      <td>80s</td>\n",
       "      <td>1</td>\n",
       "    </tr>\n",
       "  </tbody>\n",
       "</table>\n",
       "</div>"
      ],
      "text/plain": [
       "               track                                  artist  \\\n",
       "1682    Back To Life                            Soul II Soul   \n",
       "7705    Back To Life                            Soul II Soul   \n",
       "8651  Keep On Movin'  Soul II Soul (Featuring Caron Wheeler)   \n",
       "\n",
       "                                       uri  danceability  energy  key  \\\n",
       "1682  spotify:track:7vvRkLPIvfjjmCIqNxBuEZ         0.817   0.485    7   \n",
       "7705  spotify:track:7vvRkLPIvfjjmCIqNxBuEZ         0.817   0.485    7   \n",
       "8651  spotify:track:7vvRkLPIvfjjmCIqNxBuEZ         0.817   0.485    7   \n",
       "\n",
       "      loudness  mode  speechiness  acousticness  instrumentalness  liveness  \\\n",
       "1682   -11.659     1        0.143        0.0525           0.00021    0.0391   \n",
       "7705   -11.659     1        0.143        0.0525           0.00021    0.0391   \n",
       "8651   -11.659     1        0.143        0.0525           0.00021    0.0391   \n",
       "\n",
       "      valence    tempo  duration_ms  time_signature  chorus_hit  sections  \\\n",
       "1682    0.672  100.978       228267               4    48.97966        10   \n",
       "7705    0.672  100.978       228267               4    48.97966        10   \n",
       "8651    0.672  100.978       228267               4    48.97966        10   \n",
       "\n",
       "     decade  hit  \n",
       "1682    90s    1  \n",
       "7705    80s    1  \n",
       "8651    80s    1  "
      ]
     },
     "execution_count": 5,
     "metadata": {},
     "output_type": "execute_result"
    }
   ],
   "source": [
    "spotify_data[spotify_data[\"uri\"] == \"spotify:track:7vvRkLPIvfjjmCIqNxBuEZ\"]"
   ]
  },
  {
   "cell_type": "markdown",
   "metadata": {},
   "source": [
    "The 3 songs have the same uri but some have a different track name and some have a diferent decade"
   ]
  },
  {
   "cell_type": "code",
   "execution_count": 6,
   "metadata": {},
   "outputs": [],
   "source": [
    "spotify_data = spotify_data.drop_duplicates(subset =\"uri\", keep = \"last\")"
   ]
  },
  {
   "cell_type": "markdown",
   "metadata": {},
   "source": [
    "Lets try to find out if the same thing happens with the pair track,artist which should be unique too"
   ]
  },
  {
   "cell_type": "code",
   "execution_count": 7,
   "metadata": {},
   "outputs": [
    {
     "data": {
      "text/html": [
       "<div>\n",
       "<style scoped>\n",
       "    .dataframe tbody tr th:only-of-type {\n",
       "        vertical-align: middle;\n",
       "    }\n",
       "\n",
       "    .dataframe tbody tr th {\n",
       "        vertical-align: top;\n",
       "    }\n",
       "\n",
       "    .dataframe thead th {\n",
       "        text-align: right;\n",
       "    }\n",
       "</style>\n",
       "<table border=\"1\" class=\"dataframe\">\n",
       "  <thead>\n",
       "    <tr style=\"text-align: right;\">\n",
       "      <th></th>\n",
       "      <th>track</th>\n",
       "      <th>artist</th>\n",
       "      <th>uri</th>\n",
       "      <th>danceability</th>\n",
       "      <th>energy</th>\n",
       "      <th>key</th>\n",
       "      <th>loudness</th>\n",
       "      <th>mode</th>\n",
       "      <th>speechiness</th>\n",
       "      <th>acousticness</th>\n",
       "      <th>instrumentalness</th>\n",
       "      <th>liveness</th>\n",
       "      <th>valence</th>\n",
       "      <th>tempo</th>\n",
       "      <th>duration_ms</th>\n",
       "      <th>time_signature</th>\n",
       "      <th>chorus_hit</th>\n",
       "      <th>sections</th>\n",
       "      <th>decade</th>\n",
       "      <th>hit</th>\n",
       "    </tr>\n",
       "  </thead>\n",
       "  <tbody>\n",
       "    <tr>\n",
       "      <th>38261</th>\n",
       "      <td>'Buked and Scorned'</td>\n",
       "      <td>Big Joe Williams</td>\n",
       "      <td>spotify:track:4aGBRXIuMVigUiNLtgtIQQ</td>\n",
       "      <td>0.452</td>\n",
       "      <td>0.2390</td>\n",
       "      <td>4</td>\n",
       "      <td>-17.514</td>\n",
       "      <td>0</td>\n",
       "      <td>0.0463</td>\n",
       "      <td>0.689000</td>\n",
       "      <td>0.000195</td>\n",
       "      <td>0.6820</td>\n",
       "      <td>0.6730</td>\n",
       "      <td>92.399</td>\n",
       "      <td>322173</td>\n",
       "      <td>4</td>\n",
       "      <td>50.14461</td>\n",
       "      <td>14</td>\n",
       "      <td>70s</td>\n",
       "      <td>0</td>\n",
       "    </tr>\n",
       "    <tr>\n",
       "      <th>38750</th>\n",
       "      <td>'Buked and Scorned'</td>\n",
       "      <td>Big Joe Williams</td>\n",
       "      <td>spotify:track:4AyNhn1NCyUsVNThVgkVbS</td>\n",
       "      <td>0.452</td>\n",
       "      <td>0.2390</td>\n",
       "      <td>4</td>\n",
       "      <td>-17.514</td>\n",
       "      <td>0</td>\n",
       "      <td>0.0463</td>\n",
       "      <td>0.689000</td>\n",
       "      <td>0.000195</td>\n",
       "      <td>0.6820</td>\n",
       "      <td>0.6730</td>\n",
       "      <td>92.399</td>\n",
       "      <td>322173</td>\n",
       "      <td>4</td>\n",
       "      <td>50.14461</td>\n",
       "      <td>14</td>\n",
       "      <td>70s</td>\n",
       "      <td>0</td>\n",
       "    </tr>\n",
       "    <tr>\n",
       "      <th>28429</th>\n",
       "      <td>1,000 Eyes</td>\n",
       "      <td>Death</td>\n",
       "      <td>spotify:track:0YCZoL87Sipyc2hWVSN1yP</td>\n",
       "      <td>0.351</td>\n",
       "      <td>0.9930</td>\n",
       "      <td>6</td>\n",
       "      <td>-5.511</td>\n",
       "      <td>0</td>\n",
       "      <td>0.1310</td>\n",
       "      <td>0.000035</td>\n",
       "      <td>0.005230</td>\n",
       "      <td>0.1840</td>\n",
       "      <td>0.0762</td>\n",
       "      <td>109.511</td>\n",
       "      <td>268653</td>\n",
       "      <td>4</td>\n",
       "      <td>38.87768</td>\n",
       "      <td>9</td>\n",
       "      <td>10s</td>\n",
       "      <td>0</td>\n",
       "    </tr>\n",
       "    <tr>\n",
       "      <th>29802</th>\n",
       "      <td>1,000 Eyes</td>\n",
       "      <td>Death</td>\n",
       "      <td>spotify:track:585akfygNuECLHPeI5Megz</td>\n",
       "      <td>0.351</td>\n",
       "      <td>0.9930</td>\n",
       "      <td>6</td>\n",
       "      <td>-5.511</td>\n",
       "      <td>0</td>\n",
       "      <td>0.1310</td>\n",
       "      <td>0.000035</td>\n",
       "      <td>0.005230</td>\n",
       "      <td>0.1840</td>\n",
       "      <td>0.0762</td>\n",
       "      <td>109.511</td>\n",
       "      <td>268653</td>\n",
       "      <td>4</td>\n",
       "      <td>38.87768</td>\n",
       "      <td>9</td>\n",
       "      <td>10s</td>\n",
       "      <td>0</td>\n",
       "    </tr>\n",
       "    <tr>\n",
       "      <th>756</th>\n",
       "      <td>3 Gymnopédies: Gymnopedie No. 1</td>\n",
       "      <td>Erik Satie</td>\n",
       "      <td>spotify:track:1jQUjKDjWsVPIYyLANEThG</td>\n",
       "      <td>0.527</td>\n",
       "      <td>0.0291</td>\n",
       "      <td>7</td>\n",
       "      <td>-31.347</td>\n",
       "      <td>1</td>\n",
       "      <td>0.0741</td>\n",
       "      <td>0.994000</td>\n",
       "      <td>0.917000</td>\n",
       "      <td>0.0959</td>\n",
       "      <td>0.2800</td>\n",
       "      <td>99.331</td>\n",
       "      <td>159333</td>\n",
       "      <td>3</td>\n",
       "      <td>41.14856</td>\n",
       "      <td>8</td>\n",
       "      <td>90s</td>\n",
       "      <td>0</td>\n",
       "    </tr>\n",
       "    <tr>\n",
       "      <th>...</th>\n",
       "      <td>...</td>\n",
       "      <td>...</td>\n",
       "      <td>...</td>\n",
       "      <td>...</td>\n",
       "      <td>...</td>\n",
       "      <td>...</td>\n",
       "      <td>...</td>\n",
       "      <td>...</td>\n",
       "      <td>...</td>\n",
       "      <td>...</td>\n",
       "      <td>...</td>\n",
       "      <td>...</td>\n",
       "      <td>...</td>\n",
       "      <td>...</td>\n",
       "      <td>...</td>\n",
       "      <td>...</td>\n",
       "      <td>...</td>\n",
       "      <td>...</td>\n",
       "      <td>...</td>\n",
       "      <td>...</td>\n",
       "    </tr>\n",
       "    <tr>\n",
       "      <th>23073</th>\n",
       "      <td>Água De Beber</td>\n",
       "      <td>Antônio Carlos Jobim</td>\n",
       "      <td>spotify:track:6R0nUSoTN00Zi8WEVhAKSU</td>\n",
       "      <td>0.659</td>\n",
       "      <td>0.2610</td>\n",
       "      <td>4</td>\n",
       "      <td>-20.265</td>\n",
       "      <td>0</td>\n",
       "      <td>0.0437</td>\n",
       "      <td>0.545000</td>\n",
       "      <td>0.787000</td>\n",
       "      <td>0.0768</td>\n",
       "      <td>0.8810</td>\n",
       "      <td>137.315</td>\n",
       "      <td>170427</td>\n",
       "      <td>4</td>\n",
       "      <td>44.92111</td>\n",
       "      <td>8</td>\n",
       "      <td>60s</td>\n",
       "      <td>0</td>\n",
       "    </tr>\n",
       "    <tr>\n",
       "      <th>4021</th>\n",
       "      <td>Águas De Marco</td>\n",
       "      <td>Elis Regina</td>\n",
       "      <td>spotify:track:6KtnRefdp5qDky0OzpvOGh</td>\n",
       "      <td>0.611</td>\n",
       "      <td>0.2670</td>\n",
       "      <td>3</td>\n",
       "      <td>-16.036</td>\n",
       "      <td>1</td>\n",
       "      <td>0.3680</td>\n",
       "      <td>0.843000</td>\n",
       "      <td>0.000347</td>\n",
       "      <td>0.1340</td>\n",
       "      <td>0.8130</td>\n",
       "      <td>149.365</td>\n",
       "      <td>188507</td>\n",
       "      <td>4</td>\n",
       "      <td>54.03654</td>\n",
       "      <td>9</td>\n",
       "      <td>90s</td>\n",
       "      <td>0</td>\n",
       "    </tr>\n",
       "    <tr>\n",
       "      <th>33354</th>\n",
       "      <td>Águas De Marco</td>\n",
       "      <td>Elis Regina</td>\n",
       "      <td>spotify:track:33k6iSq1SIVBOaXE898Jv1</td>\n",
       "      <td>0.611</td>\n",
       "      <td>0.3220</td>\n",
       "      <td>3</td>\n",
       "      <td>-13.666</td>\n",
       "      <td>1</td>\n",
       "      <td>0.2870</td>\n",
       "      <td>0.802000</td>\n",
       "      <td>0.000044</td>\n",
       "      <td>0.1210</td>\n",
       "      <td>0.8570</td>\n",
       "      <td>150.686</td>\n",
       "      <td>185773</td>\n",
       "      <td>4</td>\n",
       "      <td>42.88205</td>\n",
       "      <td>10</td>\n",
       "      <td>70s</td>\n",
       "      <td>0</td>\n",
       "    </tr>\n",
       "    <tr>\n",
       "      <th>1430</th>\n",
       "      <td>Águas De Março</td>\n",
       "      <td>Antônio Carlos Jobim</td>\n",
       "      <td>spotify:track:1y7OxO5i6sfrHXAmUM77YG</td>\n",
       "      <td>0.652</td>\n",
       "      <td>0.3770</td>\n",
       "      <td>3</td>\n",
       "      <td>-14.848</td>\n",
       "      <td>1</td>\n",
       "      <td>0.1760</td>\n",
       "      <td>0.845000</td>\n",
       "      <td>0.000001</td>\n",
       "      <td>0.1030</td>\n",
       "      <td>0.5060</td>\n",
       "      <td>143.767</td>\n",
       "      <td>212493</td>\n",
       "      <td>4</td>\n",
       "      <td>35.39803</td>\n",
       "      <td>11</td>\n",
       "      <td>90s</td>\n",
       "      <td>0</td>\n",
       "    </tr>\n",
       "    <tr>\n",
       "      <th>9895</th>\n",
       "      <td>Águas De Março</td>\n",
       "      <td>Antônio Carlos Jobim</td>\n",
       "      <td>spotify:track:4VhGrvG7RTngmMKydcyZXH</td>\n",
       "      <td>0.649</td>\n",
       "      <td>0.3210</td>\n",
       "      <td>3</td>\n",
       "      <td>-16.751</td>\n",
       "      <td>1</td>\n",
       "      <td>0.1280</td>\n",
       "      <td>0.778000</td>\n",
       "      <td>0.000000</td>\n",
       "      <td>0.0943</td>\n",
       "      <td>0.5720</td>\n",
       "      <td>143.719</td>\n",
       "      <td>211627</td>\n",
       "      <td>4</td>\n",
       "      <td>35.36344</td>\n",
       "      <td>13</td>\n",
       "      <td>80s</td>\n",
       "      <td>0</td>\n",
       "    </tr>\n",
       "  </tbody>\n",
       "</table>\n",
       "<p>1266 rows × 20 columns</p>\n",
       "</div>"
      ],
      "text/plain": [
       "                                 track                artist  \\\n",
       "38261              'Buked and Scorned'      Big Joe Williams   \n",
       "38750              'Buked and Scorned'      Big Joe Williams   \n",
       "28429                       1,000 Eyes                 Death   \n",
       "29802                       1,000 Eyes                 Death   \n",
       "756    3 Gymnopédies: Gymnopedie No. 1            Erik Satie   \n",
       "...                                ...                   ...   \n",
       "23073                    Água De Beber  Antônio Carlos Jobim   \n",
       "4021                    Águas De Marco           Elis Regina   \n",
       "33354                   Águas De Marco           Elis Regina   \n",
       "1430                    Águas De Março  Antônio Carlos Jobim   \n",
       "9895                    Águas De Março  Antônio Carlos Jobim   \n",
       "\n",
       "                                        uri  danceability  energy  key  \\\n",
       "38261  spotify:track:4aGBRXIuMVigUiNLtgtIQQ         0.452  0.2390    4   \n",
       "38750  spotify:track:4AyNhn1NCyUsVNThVgkVbS         0.452  0.2390    4   \n",
       "28429  spotify:track:0YCZoL87Sipyc2hWVSN1yP         0.351  0.9930    6   \n",
       "29802  spotify:track:585akfygNuECLHPeI5Megz         0.351  0.9930    6   \n",
       "756    spotify:track:1jQUjKDjWsVPIYyLANEThG         0.527  0.0291    7   \n",
       "...                                     ...           ...     ...  ...   \n",
       "23073  spotify:track:6R0nUSoTN00Zi8WEVhAKSU         0.659  0.2610    4   \n",
       "4021   spotify:track:6KtnRefdp5qDky0OzpvOGh         0.611  0.2670    3   \n",
       "33354  spotify:track:33k6iSq1SIVBOaXE898Jv1         0.611  0.3220    3   \n",
       "1430   spotify:track:1y7OxO5i6sfrHXAmUM77YG         0.652  0.3770    3   \n",
       "9895   spotify:track:4VhGrvG7RTngmMKydcyZXH         0.649  0.3210    3   \n",
       "\n",
       "       loudness  mode  speechiness  acousticness  instrumentalness  liveness  \\\n",
       "38261   -17.514     0       0.0463      0.689000          0.000195    0.6820   \n",
       "38750   -17.514     0       0.0463      0.689000          0.000195    0.6820   \n",
       "28429    -5.511     0       0.1310      0.000035          0.005230    0.1840   \n",
       "29802    -5.511     0       0.1310      0.000035          0.005230    0.1840   \n",
       "756     -31.347     1       0.0741      0.994000          0.917000    0.0959   \n",
       "...         ...   ...          ...           ...               ...       ...   \n",
       "23073   -20.265     0       0.0437      0.545000          0.787000    0.0768   \n",
       "4021    -16.036     1       0.3680      0.843000          0.000347    0.1340   \n",
       "33354   -13.666     1       0.2870      0.802000          0.000044    0.1210   \n",
       "1430    -14.848     1       0.1760      0.845000          0.000001    0.1030   \n",
       "9895    -16.751     1       0.1280      0.778000          0.000000    0.0943   \n",
       "\n",
       "       valence    tempo  duration_ms  time_signature  chorus_hit  sections  \\\n",
       "38261   0.6730   92.399       322173               4    50.14461        14   \n",
       "38750   0.6730   92.399       322173               4    50.14461        14   \n",
       "28429   0.0762  109.511       268653               4    38.87768         9   \n",
       "29802   0.0762  109.511       268653               4    38.87768         9   \n",
       "756     0.2800   99.331       159333               3    41.14856         8   \n",
       "...        ...      ...          ...             ...         ...       ...   \n",
       "23073   0.8810  137.315       170427               4    44.92111         8   \n",
       "4021    0.8130  149.365       188507               4    54.03654         9   \n",
       "33354   0.8570  150.686       185773               4    42.88205        10   \n",
       "1430    0.5060  143.767       212493               4    35.39803        11   \n",
       "9895    0.5720  143.719       211627               4    35.36344        13   \n",
       "\n",
       "      decade  hit  \n",
       "38261    70s    0  \n",
       "38750    70s    0  \n",
       "28429    10s    0  \n",
       "29802    10s    0  \n",
       "756      90s    0  \n",
       "...      ...  ...  \n",
       "23073    60s    0  \n",
       "4021     90s    0  \n",
       "33354    70s    0  \n",
       "1430     90s    0  \n",
       "9895     80s    0  \n",
       "\n",
       "[1266 rows x 20 columns]"
      ]
     },
     "execution_count": 7,
     "metadata": {},
     "output_type": "execute_result"
    }
   ],
   "source": [
    "spotify_data_dup = spotify_data[spotify_data.duplicated(subset=[\"track\", \"artist\"], keep=False)].sort_values(by=[\"track\", \"artist\"])\n",
    "spotify_data_dup"
   ]
  },
  {
   "cell_type": "markdown",
   "metadata": {},
   "source": [
    "We can see that the same thing happens. However there is a casa where the track and artist name are equal however the other values are different. We assumed that this happened because a song was released by an artist in one year and then remade some years after. Because of this we removed duplicates with the triplet track,artist,decade in common. \\\n",
    "We will also ignore casing and extra spaces on the left and on the right"
   ]
  },
  {
   "cell_type": "code",
   "execution_count": 8,
   "metadata": {},
   "outputs": [],
   "source": [
    "spotify_data['track_new'] = spotify_data['track'].str.strip()\n",
    "spotify_data['track_new'] = spotify_data['track'].str.lower()\n",
    "spotify_data['artist_new'] = spotify_data['artist'].str.strip()\n",
    "spotify_data['artist_new'] = spotify_data['artist'].str.lower()\n",
    "spotify_data['decade_new'] = spotify_data['decade'].str.strip()\n",
    "spotify_data['decade_new'] = spotify_data['decade'].str.lower()\n",
    "spotify_data = spotify_data.drop_duplicates(subset = [\"track_new\", \"artist_new\", \"decade_new\"], keep = \"last\")\n",
    "spotify_data = spotify_data.drop(columns = [\"track_new\", \"artist_new\", \"decade_new\"])"
   ]
  },
  {
   "cell_type": "markdown",
   "metadata": {},
   "source": [
    "We decided to remove all the songs with the exact same feature values (excluding track, artist and hit). The fact that they have the same values does not mean that it is an error on data however we decided that the probablity of that happening is so low that we were ready to risk removing good data"
   ]
  },
  {
   "cell_type": "code",
   "execution_count": 9,
   "metadata": {},
   "outputs": [],
   "source": [
    "dup_columns = spotify_data.columns[3:-1]\n",
    "spotify_data = spotify_data.drop_duplicates(subset=dup_columns, keep=\"last\")"
   ]
  },
  {
   "cell_type": "markdown",
   "metadata": {},
   "source": [
    "We removed all the rows that had loudness greater than 0."
   ]
  },
  {
   "cell_type": "code",
   "execution_count": 10,
   "metadata": {},
   "outputs": [],
   "source": [
    "spotify_data = spotify_data[spotify_data.loudness <= 0]"
   ]
  },
  {
   "cell_type": "markdown",
   "metadata": {},
   "source": [
    "Finally we removed all outliers"
   ]
  },
  {
   "cell_type": "code",
   "execution_count": 11,
   "metadata": {},
   "outputs": [],
   "source": [
    "from scipy import stats\n",
    "\n",
    "columns_to_rem_outliers = [x for x in spotify_data.columns if x not in ['track','artist','uri','decade']]\n",
    "columns_to_rem_outliers\n",
    "\n",
    "z_scores = stats.zscore(spotify_data[columns_to_rem_outliers])\n",
    "abs_z_scores = np.abs(z_scores)\n",
    "filtered_entries = (abs_z_scores < 3).all(axis=1)\n",
    "spotify_data = spotify_data[filtered_entries]"
   ]
  },
  {
   "cell_type": "code",
   "execution_count": 12,
   "metadata": {},
   "outputs": [
    {
     "data": {
      "text/html": [
       "<div>\n",
       "<style scoped>\n",
       "    .dataframe tbody tr th:only-of-type {\n",
       "        vertical-align: middle;\n",
       "    }\n",
       "\n",
       "    .dataframe tbody tr th {\n",
       "        vertical-align: top;\n",
       "    }\n",
       "\n",
       "    .dataframe thead th {\n",
       "        text-align: right;\n",
       "    }\n",
       "</style>\n",
       "<table border=\"1\" class=\"dataframe\">\n",
       "  <thead>\n",
       "    <tr style=\"text-align: right;\">\n",
       "      <th></th>\n",
       "      <th>track</th>\n",
       "      <th>artist</th>\n",
       "      <th>uri</th>\n",
       "      <th>danceability</th>\n",
       "      <th>energy</th>\n",
       "      <th>key</th>\n",
       "      <th>loudness</th>\n",
       "      <th>mode</th>\n",
       "      <th>speechiness</th>\n",
       "      <th>acousticness</th>\n",
       "      <th>instrumentalness</th>\n",
       "      <th>liveness</th>\n",
       "      <th>valence</th>\n",
       "      <th>tempo</th>\n",
       "      <th>duration_ms</th>\n",
       "      <th>time_signature</th>\n",
       "      <th>chorus_hit</th>\n",
       "      <th>sections</th>\n",
       "      <th>decade</th>\n",
       "      <th>hit</th>\n",
       "    </tr>\n",
       "  </thead>\n",
       "  <tbody>\n",
       "    <tr>\n",
       "      <th>0</th>\n",
       "      <td>Misty Roses</td>\n",
       "      <td>Astrud Gilberto</td>\n",
       "      <td>spotify:track:50RBM1j1Dw7WYmsGsWg9Tm</td>\n",
       "      <td>0.527</td>\n",
       "      <td>0.316</td>\n",
       "      <td>1</td>\n",
       "      <td>-15.769</td>\n",
       "      <td>1</td>\n",
       "      <td>0.0310</td>\n",
       "      <td>0.693000</td>\n",
       "      <td>0.006990</td>\n",
       "      <td>0.1680</td>\n",
       "      <td>0.543</td>\n",
       "      <td>116.211</td>\n",
       "      <td>158840</td>\n",
       "      <td>4</td>\n",
       "      <td>53.89523</td>\n",
       "      <td>6</td>\n",
       "      <td>90s</td>\n",
       "      <td>0</td>\n",
       "    </tr>\n",
       "    <tr>\n",
       "      <th>1</th>\n",
       "      <td>Never Ever</td>\n",
       "      <td>All Saints</td>\n",
       "      <td>spotify:track:5FTz9qQ94PyUHETyAyfYZN</td>\n",
       "      <td>0.738</td>\n",
       "      <td>0.541</td>\n",
       "      <td>1</td>\n",
       "      <td>-5.485</td>\n",
       "      <td>1</td>\n",
       "      <td>0.0311</td>\n",
       "      <td>0.559000</td>\n",
       "      <td>0.000000</td>\n",
       "      <td>0.0492</td>\n",
       "      <td>0.309</td>\n",
       "      <td>134.187</td>\n",
       "      <td>387573</td>\n",
       "      <td>4</td>\n",
       "      <td>32.16853</td>\n",
       "      <td>16</td>\n",
       "      <td>90s</td>\n",
       "      <td>1</td>\n",
       "    </tr>\n",
       "    <tr>\n",
       "      <th>2</th>\n",
       "      <td>Soul Sermon</td>\n",
       "      <td>Gregg Karukas</td>\n",
       "      <td>spotify:track:6m24oe3lk1UMxq9zq4iPFi</td>\n",
       "      <td>0.736</td>\n",
       "      <td>0.419</td>\n",
       "      <td>0</td>\n",
       "      <td>-10.662</td>\n",
       "      <td>1</td>\n",
       "      <td>0.0300</td>\n",
       "      <td>0.693000</td>\n",
       "      <td>0.495000</td>\n",
       "      <td>0.0809</td>\n",
       "      <td>0.265</td>\n",
       "      <td>93.982</td>\n",
       "      <td>237267</td>\n",
       "      <td>4</td>\n",
       "      <td>42.05369</td>\n",
       "      <td>9</td>\n",
       "      <td>90s</td>\n",
       "      <td>0</td>\n",
       "    </tr>\n",
       "    <tr>\n",
       "      <th>3</th>\n",
       "      <td>Clarinet Marmalade - Live</td>\n",
       "      <td>Alton Purnell</td>\n",
       "      <td>spotify:track:5FOXuiLI6knVtgMUjWKj6x</td>\n",
       "      <td>0.565</td>\n",
       "      <td>0.594</td>\n",
       "      <td>5</td>\n",
       "      <td>-13.086</td>\n",
       "      <td>1</td>\n",
       "      <td>0.0646</td>\n",
       "      <td>0.655000</td>\n",
       "      <td>0.926000</td>\n",
       "      <td>0.6750</td>\n",
       "      <td>0.763</td>\n",
       "      <td>114.219</td>\n",
       "      <td>375933</td>\n",
       "      <td>4</td>\n",
       "      <td>80.99693</td>\n",
       "      <td>10</td>\n",
       "      <td>90s</td>\n",
       "      <td>0</td>\n",
       "    </tr>\n",
       "    <tr>\n",
       "      <th>4</th>\n",
       "      <td>До смерті і довше - Drum &amp; Base and Rock Remix</td>\n",
       "      <td>Skryabin</td>\n",
       "      <td>spotify:track:6CxyIPTqSPvAPXfrIZczs4</td>\n",
       "      <td>0.513</td>\n",
       "      <td>0.760</td>\n",
       "      <td>4</td>\n",
       "      <td>-10.077</td>\n",
       "      <td>1</td>\n",
       "      <td>0.0355</td>\n",
       "      <td>0.000017</td>\n",
       "      <td>0.003390</td>\n",
       "      <td>0.1530</td>\n",
       "      <td>0.961</td>\n",
       "      <td>153.166</td>\n",
       "      <td>430653</td>\n",
       "      <td>4</td>\n",
       "      <td>25.57331</td>\n",
       "      <td>20</td>\n",
       "      <td>90s</td>\n",
       "      <td>0</td>\n",
       "    </tr>\n",
       "    <tr>\n",
       "      <th>...</th>\n",
       "      <td>...</td>\n",
       "      <td>...</td>\n",
       "      <td>...</td>\n",
       "      <td>...</td>\n",
       "      <td>...</td>\n",
       "      <td>...</td>\n",
       "      <td>...</td>\n",
       "      <td>...</td>\n",
       "      <td>...</td>\n",
       "      <td>...</td>\n",
       "      <td>...</td>\n",
       "      <td>...</td>\n",
       "      <td>...</td>\n",
       "      <td>...</td>\n",
       "      <td>...</td>\n",
       "      <td>...</td>\n",
       "      <td>...</td>\n",
       "      <td>...</td>\n",
       "      <td>...</td>\n",
       "      <td>...</td>\n",
       "    </tr>\n",
       "    <tr>\n",
       "      <th>41101</th>\n",
       "      <td>Born with the Blues</td>\n",
       "      <td>Buster Benton</td>\n",
       "      <td>spotify:track:2ZARTKpOvYYuR2DxcTjxQo</td>\n",
       "      <td>0.373</td>\n",
       "      <td>0.417</td>\n",
       "      <td>9</td>\n",
       "      <td>-12.273</td>\n",
       "      <td>0</td>\n",
       "      <td>0.0934</td>\n",
       "      <td>0.858000</td>\n",
       "      <td>0.462000</td>\n",
       "      <td>0.0425</td>\n",
       "      <td>0.588</td>\n",
       "      <td>174.359</td>\n",
       "      <td>289653</td>\n",
       "      <td>3</td>\n",
       "      <td>36.12884</td>\n",
       "      <td>14</td>\n",
       "      <td>70s</td>\n",
       "      <td>0</td>\n",
       "    </tr>\n",
       "    <tr>\n",
       "      <th>41102</th>\n",
       "      <td>Farther On Down The Road</td>\n",
       "      <td>Joe Simon</td>\n",
       "      <td>spotify:track:1Fj16GGVNFdPut4SFG2vvp</td>\n",
       "      <td>0.470</td>\n",
       "      <td>0.490</td>\n",
       "      <td>2</td>\n",
       "      <td>-11.630</td>\n",
       "      <td>1</td>\n",
       "      <td>0.0915</td>\n",
       "      <td>0.064900</td>\n",
       "      <td>0.000001</td>\n",
       "      <td>0.0574</td>\n",
       "      <td>0.644</td>\n",
       "      <td>176.523</td>\n",
       "      <td>187067</td>\n",
       "      <td>4</td>\n",
       "      <td>33.41380</td>\n",
       "      <td>9</td>\n",
       "      <td>70s</td>\n",
       "      <td>1</td>\n",
       "    </tr>\n",
       "    <tr>\n",
       "      <th>41103</th>\n",
       "      <td>Sweetheart</td>\n",
       "      <td>Engelbert Humperdinck</td>\n",
       "      <td>spotify:track:6zm0XoxnzzdFeXeYGE8gFh</td>\n",
       "      <td>0.253</td>\n",
       "      <td>0.550</td>\n",
       "      <td>2</td>\n",
       "      <td>-7.743</td>\n",
       "      <td>1</td>\n",
       "      <td>0.0305</td>\n",
       "      <td>0.155000</td>\n",
       "      <td>0.000021</td>\n",
       "      <td>0.0786</td>\n",
       "      <td>0.643</td>\n",
       "      <td>100.011</td>\n",
       "      <td>183613</td>\n",
       "      <td>4</td>\n",
       "      <td>22.28247</td>\n",
       "      <td>12</td>\n",
       "      <td>70s</td>\n",
       "      <td>1</td>\n",
       "    </tr>\n",
       "    <tr>\n",
       "      <th>41104</th>\n",
       "      <td>Until It's Time For You To Go</td>\n",
       "      <td>Neil Diamond</td>\n",
       "      <td>spotify:track:6fsAxEHvbVPU8pVPnBXaX2</td>\n",
       "      <td>0.419</td>\n",
       "      <td>0.124</td>\n",
       "      <td>0</td>\n",
       "      <td>-21.666</td>\n",
       "      <td>1</td>\n",
       "      <td>0.0340</td>\n",
       "      <td>0.800000</td>\n",
       "      <td>0.000100</td>\n",
       "      <td>0.1310</td>\n",
       "      <td>0.178</td>\n",
       "      <td>91.439</td>\n",
       "      <td>211440</td>\n",
       "      <td>3</td>\n",
       "      <td>19.82409</td>\n",
       "      <td>10</td>\n",
       "      <td>70s</td>\n",
       "      <td>1</td>\n",
       "    </tr>\n",
       "    <tr>\n",
       "      <th>41105</th>\n",
       "      <td>Try Me, I Know We Can Make It</td>\n",
       "      <td>Donna Summer</td>\n",
       "      <td>spotify:track:75y3G2V8wSpm89einsZ4d5</td>\n",
       "      <td>0.810</td>\n",
       "      <td>0.602</td>\n",
       "      <td>0</td>\n",
       "      <td>-15.674</td>\n",
       "      <td>0</td>\n",
       "      <td>0.0363</td>\n",
       "      <td>0.004260</td>\n",
       "      <td>0.327000</td>\n",
       "      <td>0.0920</td>\n",
       "      <td>0.964</td>\n",
       "      <td>122.952</td>\n",
       "      <td>198093</td>\n",
       "      <td>4</td>\n",
       "      <td>41.00309</td>\n",
       "      <td>10</td>\n",
       "      <td>70s</td>\n",
       "      <td>1</td>\n",
       "    </tr>\n",
       "  </tbody>\n",
       "</table>\n",
       "<p>36001 rows × 20 columns</p>\n",
       "</div>"
      ],
      "text/plain": [
       "                                                track                 artist  \\\n",
       "0                                         Misty Roses        Astrud Gilberto   \n",
       "1                                          Never Ever             All Saints   \n",
       "2                                         Soul Sermon          Gregg Karukas   \n",
       "3                           Clarinet Marmalade - Live          Alton Purnell   \n",
       "4      До смерті і довше - Drum & Base and Rock Remix               Skryabin   \n",
       "...                                               ...                    ...   \n",
       "41101                             Born with the Blues          Buster Benton   \n",
       "41102                        Farther On Down The Road              Joe Simon   \n",
       "41103                                      Sweetheart  Engelbert Humperdinck   \n",
       "41104                   Until It's Time For You To Go           Neil Diamond   \n",
       "41105                   Try Me, I Know We Can Make It           Donna Summer   \n",
       "\n",
       "                                        uri  danceability  energy  key  \\\n",
       "0      spotify:track:50RBM1j1Dw7WYmsGsWg9Tm         0.527   0.316    1   \n",
       "1      spotify:track:5FTz9qQ94PyUHETyAyfYZN         0.738   0.541    1   \n",
       "2      spotify:track:6m24oe3lk1UMxq9zq4iPFi         0.736   0.419    0   \n",
       "3      spotify:track:5FOXuiLI6knVtgMUjWKj6x         0.565   0.594    5   \n",
       "4      spotify:track:6CxyIPTqSPvAPXfrIZczs4         0.513   0.760    4   \n",
       "...                                     ...           ...     ...  ...   \n",
       "41101  spotify:track:2ZARTKpOvYYuR2DxcTjxQo         0.373   0.417    9   \n",
       "41102  spotify:track:1Fj16GGVNFdPut4SFG2vvp         0.470   0.490    2   \n",
       "41103  spotify:track:6zm0XoxnzzdFeXeYGE8gFh         0.253   0.550    2   \n",
       "41104  spotify:track:6fsAxEHvbVPU8pVPnBXaX2         0.419   0.124    0   \n",
       "41105  spotify:track:75y3G2V8wSpm89einsZ4d5         0.810   0.602    0   \n",
       "\n",
       "       loudness  mode  speechiness  acousticness  instrumentalness  liveness  \\\n",
       "0       -15.769     1       0.0310      0.693000          0.006990    0.1680   \n",
       "1        -5.485     1       0.0311      0.559000          0.000000    0.0492   \n",
       "2       -10.662     1       0.0300      0.693000          0.495000    0.0809   \n",
       "3       -13.086     1       0.0646      0.655000          0.926000    0.6750   \n",
       "4       -10.077     1       0.0355      0.000017          0.003390    0.1530   \n",
       "...         ...   ...          ...           ...               ...       ...   \n",
       "41101   -12.273     0       0.0934      0.858000          0.462000    0.0425   \n",
       "41102   -11.630     1       0.0915      0.064900          0.000001    0.0574   \n",
       "41103    -7.743     1       0.0305      0.155000          0.000021    0.0786   \n",
       "41104   -21.666     1       0.0340      0.800000          0.000100    0.1310   \n",
       "41105   -15.674     0       0.0363      0.004260          0.327000    0.0920   \n",
       "\n",
       "       valence    tempo  duration_ms  time_signature  chorus_hit  sections  \\\n",
       "0        0.543  116.211       158840               4    53.89523         6   \n",
       "1        0.309  134.187       387573               4    32.16853        16   \n",
       "2        0.265   93.982       237267               4    42.05369         9   \n",
       "3        0.763  114.219       375933               4    80.99693        10   \n",
       "4        0.961  153.166       430653               4    25.57331        20   \n",
       "...        ...      ...          ...             ...         ...       ...   \n",
       "41101    0.588  174.359       289653               3    36.12884        14   \n",
       "41102    0.644  176.523       187067               4    33.41380         9   \n",
       "41103    0.643  100.011       183613               4    22.28247        12   \n",
       "41104    0.178   91.439       211440               3    19.82409        10   \n",
       "41105    0.964  122.952       198093               4    41.00309        10   \n",
       "\n",
       "      decade  hit  \n",
       "0        90s    0  \n",
       "1        90s    1  \n",
       "2        90s    0  \n",
       "3        90s    0  \n",
       "4        90s    0  \n",
       "...      ...  ...  \n",
       "41101    70s    0  \n",
       "41102    70s    1  \n",
       "41103    70s    1  \n",
       "41104    70s    1  \n",
       "41105    70s    1  \n",
       "\n",
       "[36001 rows x 20 columns]"
      ]
     },
     "execution_count": 12,
     "metadata": {},
     "output_type": "execute_result"
    }
   ],
   "source": [
    "spotify_data"
   ]
  },
  {
   "cell_type": "markdown",
   "metadata": {},
   "source": [
    "We know think data is acceptable for analysis and for training models"
   ]
  },
  {
   "cell_type": "markdown",
   "metadata": {},
   "source": [
    "## 0.4. Understanding data"
   ]
  },
  {
   "cell_type": "markdown",
   "metadata": {},
   "source": [
    "Lets first get to know the dataset size and feature types:"
   ]
  },
  {
   "cell_type": "code",
   "execution_count": 13,
   "metadata": {},
   "outputs": [
    {
     "data": {
      "text/plain": [
       "(36001, 20)"
      ]
     },
     "execution_count": 13,
     "metadata": {},
     "output_type": "execute_result"
    }
   ],
   "source": [
    "spotify_data.shape"
   ]
  },
  {
   "cell_type": "code",
   "execution_count": 14,
   "metadata": {},
   "outputs": [
    {
     "name": "stdout",
     "output_type": "stream",
     "text": [
      "<class 'pandas.core.frame.DataFrame'>\n",
      "Int64Index: 36001 entries, 0 to 41105\n",
      "Data columns (total 20 columns):\n",
      " #   Column            Dtype  \n",
      "---  ------            -----  \n",
      " 0   track             object \n",
      " 1   artist            object \n",
      " 2   uri               object \n",
      " 3   danceability      float64\n",
      " 4   energy            float64\n",
      " 5   key               int64  \n",
      " 6   loudness          float64\n",
      " 7   mode              int64  \n",
      " 8   speechiness       float64\n",
      " 9   acousticness      float64\n",
      " 10  instrumentalness  float64\n",
      " 11  liveness          float64\n",
      " 12  valence           float64\n",
      " 13  tempo             float64\n",
      " 14  duration_ms       int64  \n",
      " 15  time_signature    int64  \n",
      " 16  chorus_hit        float64\n",
      " 17  sections          int64  \n",
      " 18  decade            object \n",
      " 19  hit               int64  \n",
      "dtypes: float64(10), int64(6), object(4)"
     ]
    }
   ],
   "source": [
    "spotify_data.info(verbose=True, memory_usage=False, show_counts=False) "
   ]
  },
  {
   "cell_type": "markdown",
   "metadata": {},
   "source": [
    "It is important for us to understand the distribution of data. For this reason we ploted histograms."
   ]
  },
  {
   "cell_type": "code",
   "execution_count": 15,
   "metadata": {},
   "outputs": [],
   "source": [
    "spotify_data_analysis = spotify_data.copy()"
   ]
  },
  {
   "cell_type": "code",
   "execution_count": 16,
   "metadata": {},
   "outputs": [],
   "source": [
    "spotify_data_analysis.drop(['track','artist','uri'], inplace=True, axis=1)"
   ]
  },
  {
   "cell_type": "code",
   "execution_count": 17,
   "metadata": {},
   "outputs": [],
   "source": [
    "def histogram(data, column):\n",
    "    plt.hist(data[column], bins=10)\n",
    "    plt.title(column)\n",
    "    plt.show()"
   ]
  },
  {
   "cell_type": "code",
   "execution_count": 18,
   "metadata": {},
   "outputs": [
    {
     "data": {
      "image/png": "[encoded data removed]",
      "text/plain": [
       "<Figure size 432x288 with 1 Axes>"
      ]
     },
     "metadata": {
      "needs_background": "light"
     },
     "output_type": "display_data"
    },
    {
     "data": {
      "image/png": "[encoded data removed]",
      "text/plain": [
       "<Figure size 432x288 with 1 Axes>"
      ]
     },
     "metadata": {
      "needs_background": "light"
     },
     "output_type": "display_data"
    },
    {
     "data": {
      "image/png": "[encoded data removed]",
      "text/plain": [
       "<Figure size 432x288 with 1 Axes>"
      ]
     },
     "metadata": {
      "needs_background": "light"
     },
     "output_type": "display_data"
    },
    {
     "data": {
      "image/png": "[encoded data removed]",
      "text/plain": [
       "<Figure size 432x288 with 1 Axes>"
      ]
     },
     "metadata": {
      "needs_background": "light"
     },
     "output_type": "display_data"
    },
    {
     "data": {
      "image/png": "[encoded data removed]",
      "text/plain": [
       "<Figure size 432x288 with 1 Axes>"
      ]
     },
     "metadata": {
      "needs_background": "light"
     },
     "output_type": "display_data"
    },
    {
     "data": {
      "image/png": "[encoded data removed]",
      "text/plain": [
       "<Figure size 432x288 with 1 Axes>"
      ]
     },
     "metadata": {
      "needs_background": "light"
     },
     "output_type": "display_data"
    },
    {
     "data": {
      "image/png": "[encoded data removed]",
      "text/plain": [
       "<Figure size 432x288 with 1 Axes>"
      ]
     },
     "metadata": {
      "needs_background": "light"
     },
     "output_type": "display_data"
    },
    {
     "data": {
      "image/png": "[encoded data removed]",
      "text/plain": [
       "<Figure size 432x288 with 1 Axes>"
      ]
     },
     "metadata": {
      "needs_background": "light"
     },
     "output_type": "display_data"
    },
    {
     "data": {
      "image/png": "[encoded data removed]",
      "text/plain": [
       "<Figure size 432x288 with 1 Axes>"
      ]
     },
     "metadata": {
      "needs_background": "light"
     },
     "output_type": "display_data"
    },
    {
     "data": {
      "image/png": "[encoded data removed]",
      "text/plain": [
       "<Figure size 432x288 with 1 Axes>"
      ]
     },
     "metadata": {
      "needs_background": "light"
     },
     "output_type": "display_data"
    },
    {
     "data": {
      "image/png": "[encoded data removed]",
      "text/plain": [
       "<Figure size 432x288 with 1 Axes>"
      ]
     },
     "metadata": {
      "needs_background": "light"
     },
     "output_type": "display_data"
    },
    {
     "data": {
      "image/png": "[encoded data removed]",
      "text/plain": [
       "<Figure size 432x288 with 1 Axes>"
      ]
     },
     "metadata": {
      "needs_background": "light"
     },
     "output_type": "display_data"
    },
    {
     "data": {
      "image/png": "[encoded data removed]",
      "text/plain": [
       "<Figure size 432x288 with 1 Axes>"
      ]
     },
     "metadata": {
      "needs_background": "light"
     },
     "output_type": "display_data"
    },
    {
     "data": {
      "image/png": "[encoded data removed]",
      "text/plain": [
       "<Figure size 432x288 with 1 Axes>"
      ]
     },
     "metadata": {
      "needs_background": "light"
     },
     "output_type": "display_data"
    },
    {
     "data": {
      "image/png": "[encoded data removed]",
      "text/plain": [
       "<Figure size 432x288 with 1 Axes>"
      ]
     },
     "metadata": {
      "needs_background": "light"
     },
     "output_type": "display_data"
    },
    {
     "data": {
      "image/png": "[encoded data removed]",
      "text/plain": [
       "<Figure size 432x288 with 1 Axes>"
      ]
     },
     "metadata": {
      "needs_background": "light"
     },
     "output_type": "display_data"
    },
    {
     "data": {
      "image/png": "[encoded data removed]",
      "text/plain": [
       "<Figure size 432x288 with 1 Axes>"
      ]
     },
     "metadata": {
      "needs_background": "light"
     },
     "output_type": "display_data"
    }
   ],
   "source": [
    "%matplotlib inline\n",
    "for column in spotify_data_analysis.columns:\n",
    "    histogram(spotify_data_analysis, column)"
   ]
  },
  {
   "cell_type": "markdown",
   "metadata": {},
   "source": [
    "From this histograms the most intering facts are that:\n",
    "- the values of speechiness are almost all up to 0.15\n",
    "- time signature is very concentrated on the value 4\n",
    "- instrumentalness is very concentrade on low values (< 0.2)"
   ]
  },
  {
   "cell_type": "markdown",
   "metadata": {},
   "source": [
    "## Task 1 (Supervised Learning) - Predicting Hit or Flop and Discrete Valence\n",
    "\n",
    "In this task we will target 2 classification tasks:\n",
    "1. **Predicting Hit or Flip (binary classification task, target variable is `hit`)**; \n",
    "2. **Predicting Discrete Valence (multiclass classification, target variable is `DISCRETE_VALENCE`)**.\n",
    "\n",
    "Our objective in this task is to train different models using different classifiers with the dataset and then to compare the results so that we can find the best classifier. \\\n",
    "In the journey we will try to train the best model for a given classifier in a way that we have optimized hyperparameters."
   ]
  },
  {
   "cell_type": "markdown",
   "metadata": {},
   "source": [
    "Lets first define some auxiliary funcions and imports, you can just ignore them as their implementation is not important for our objective."
   ]
  },
  {
   "cell_type": "code",
   "execution_count": 19,
   "metadata": {},
   "outputs": [],
   "source": [
    "import pandas as pd\n",
    "import numpy as np\n",
    "import matplotlib.pyplot as plt\n",
    "from sklearn import tree, svm\n",
    "from sklearn.compose import ColumnTransformer\n",
    "from sklearn.preprocessing import StandardScaler\n",
    "from sklearn.tree import DecisionTreeClassifier, plot_tree\n",
    "from sklearn.neighbors import KNeighborsClassifier\n",
    "from sklearn.naive_bayes import GaussianNB\n",
    "from sklearn.model_selection import train_test_split, cross_val_score, GridSearchCV\n",
    "from sklearn.metrics import confusion_matrix, classification_report, accuracy_score, f1_score, recall_score\n",
    "import time"
   ]
  },
  {
   "cell_type": "code",
   "execution_count": 20,
   "metadata": {},
   "outputs": [],
   "source": [
    "def scale(data, scaler=None):\n",
    "    if(not scaler):\n",
    "        scaler = StandardScaler()\n",
    "    result = scaler.fit_transform(data)\n",
    "    return pd.DataFrame(result, columns=data.columns), scaler"
   ]
  },
  {
   "cell_type": "code",
   "execution_count": 21,
   "metadata": {},
   "outputs": [],
   "source": [
    "def get_cm(y_train, pred, labels, ax):\n",
    "    cm = confusion_matrix(y_train, pred, labels=labels)\n",
    "    sns.heatmap(cm.T, square=True, annot=True, fmt='d', cbar=False,\n",
    "            xticklabels=labels,\n",
    "            yticklabels=labels,\n",
    "            ax=ax)\n",
    "    plt.xlabel('true label')\n",
    "    plt.ylabel('predicted label')"
   ]
  },
  {
   "cell_type": "code",
   "execution_count": 22,
   "metadata": {},
   "outputs": [],
   "source": [
    "def get_scores(model, X_train, X_test, y_train, y_test):\n",
    "    cross_score = np.mean(cross_val_score(model, X_train, y_train, cv=5, n_jobs=-1))\n",
    "    preds_train = model.predict(X_train)\n",
    "    preds_test = model.predict(X_test)\n",
    "    acc_train = accuracy_score(y_true=y_train, y_pred=preds_train)\n",
    "    acc_test = accuracy_score(y_true=y_test, y_pred=preds_test)\n",
    "    f1 = f1_score(y_true=y_test, y_pred=preds_test, average='micro')\n",
    "    recall = recall_score(y_test, preds_test, average='micro')\n",
    "    return {'cross_score':cross_score, 'preds_train': preds_train, 'preds_test':preds_test, 'acc_train':acc_train, 'acc_test':acc_test, 'f1':f1, 'recall':recall}\n",
    "\n",
    "def print_scores(scores):\n",
    "    print(\"Cross validation: {:.3f}\".format(scores[\"cross_score\"]))\n",
    "    print(\"Accuracy on train set: {:.3f}\".format(scores[\"acc_train\"]))\n",
    "    print(\"Accuracy on test set: {:.3f}\".format(scores[\"acc_test\"]))\n",
    "    print(\"F1 on test set: {:.3f}\".format(scores[\"f1\"]))\n",
    "    print(\"Recall on test set: {:.3f}\".format(scores[\"recall\"]))"
   ]
  },
  {
   "cell_type": "markdown",
   "metadata": {},
   "source": [
    "## 1.1. Preprocessing Data for Classification"
   ]
  },
  {
   "cell_type": "markdown",
   "metadata": {},
   "source": [
    "Lets just import some packages we will need for this task and make a copy of the dataset"
   ]
  },
  {
   "cell_type": "code",
   "execution_count": 23,
   "metadata": {},
   "outputs": [],
   "source": [
    "sup_spotify = spotify_data.copy()"
   ]
  },
  {
   "cell_type": "markdown",
   "metadata": {},
   "source": [
    "We first need to remove meta features"
   ]
  },
  {
   "cell_type": "code",
   "execution_count": 24,
   "metadata": {},
   "outputs": [],
   "source": [
    "sup_spotify.drop(['track','artist','uri'], inplace=True, axis=1)"
   ]
  },
  {
   "cell_type": "markdown",
   "metadata": {},
   "source": [
    "We will use distance-based models and as those calculate distance between different feature values we need features that distance calculation makes sense. With the original data we have for example \"decade\" feature. For example, on this feature it does not make sense that we say that musics from the 60's decade are further from the 10's decade than musics from the 70's, instead we should see it as different values but not further. The same happens for the \"key\" feature.\n",
    "\n",
    "For the reason explained before we will have to tranform the \"key\" and \"decade\" features into binary columns so the model sees different values as different instead of further."
   ]
  },
  {
   "cell_type": "code",
   "execution_count": 25,
   "metadata": {},
   "outputs": [],
   "source": [
    "sup_spotify = pd.get_dummies(sup_spotify, dtype=int, columns=['key'], prefix=['key'])\n",
    "sup_spotify = pd.get_dummies(sup_spotify, dtype=int, columns=['decade'], prefix=['decade'])"
   ]
  },
  {
   "cell_type": "code",
   "execution_count": 26,
   "metadata": {},
   "outputs": [
    {
     "data": {
      "text/html": [
       "<div>\n",
       "<style scoped>\n",
       "    .dataframe tbody tr th:only-of-type {\n",
       "        vertical-align: middle;\n",
       "    }\n",
       "\n",
       "    .dataframe tbody tr th {\n",
       "        vertical-align: top;\n",
       "    }\n",
       "\n",
       "    .dataframe thead th {\n",
       "        text-align: right;\n",
       "    }\n",
       "</style>\n",
       "<table border=\"1\" class=\"dataframe\">\n",
       "  <thead>\n",
       "    <tr style=\"text-align: right;\">\n",
       "      <th></th>\n",
       "      <th>danceability</th>\n",
       "      <th>energy</th>\n",
       "      <th>loudness</th>\n",
       "      <th>mode</th>\n",
       "      <th>speechiness</th>\n",
       "      <th>acousticness</th>\n",
       "      <th>instrumentalness</th>\n",
       "      <th>liveness</th>\n",
       "      <th>valence</th>\n",
       "      <th>tempo</th>\n",
       "      <th>...</th>\n",
       "      <th>key_8</th>\n",
       "      <th>key_9</th>\n",
       "      <th>key_10</th>\n",
       "      <th>key_11</th>\n",
       "      <th>decade_00s</th>\n",
       "      <th>decade_10s</th>\n",
       "      <th>decade_60s</th>\n",
       "      <th>decade_70s</th>\n",
       "      <th>decade_80s</th>\n",
       "      <th>decade_90s</th>\n",
       "    </tr>\n",
       "  </thead>\n",
       "  <tbody>\n",
       "    <tr>\n",
       "      <th>0</th>\n",
       "      <td>0.527</td>\n",
       "      <td>0.316</td>\n",
       "      <td>-15.769</td>\n",
       "      <td>1</td>\n",
       "      <td>0.0310</td>\n",
       "      <td>0.693000</td>\n",
       "      <td>0.006990</td>\n",
       "      <td>0.1680</td>\n",
       "      <td>0.543</td>\n",
       "      <td>116.211</td>\n",
       "      <td>...</td>\n",
       "      <td>0</td>\n",
       "      <td>0</td>\n",
       "      <td>0</td>\n",
       "      <td>0</td>\n",
       "      <td>0</td>\n",
       "      <td>0</td>\n",
       "      <td>0</td>\n",
       "      <td>0</td>\n",
       "      <td>0</td>\n",
       "      <td>1</td>\n",
       "    </tr>\n",
       "    <tr>\n",
       "      <th>1</th>\n",
       "      <td>0.738</td>\n",
       "      <td>0.541</td>\n",
       "      <td>-5.485</td>\n",
       "      <td>1</td>\n",
       "      <td>0.0311</td>\n",
       "      <td>0.559000</td>\n",
       "      <td>0.000000</td>\n",
       "      <td>0.0492</td>\n",
       "      <td>0.309</td>\n",
       "      <td>134.187</td>\n",
       "      <td>...</td>\n",
       "      <td>0</td>\n",
       "      <td>0</td>\n",
       "      <td>0</td>\n",
       "      <td>0</td>\n",
       "      <td>0</td>\n",
       "      <td>0</td>\n",
       "      <td>0</td>\n",
       "      <td>0</td>\n",
       "      <td>0</td>\n",
       "      <td>1</td>\n",
       "    </tr>\n",
       "    <tr>\n",
       "      <th>2</th>\n",
       "      <td>0.736</td>\n",
       "      <td>0.419</td>\n",
       "      <td>-10.662</td>\n",
       "      <td>1</td>\n",
       "      <td>0.0300</td>\n",
       "      <td>0.693000</td>\n",
       "      <td>0.495000</td>\n",
       "      <td>0.0809</td>\n",
       "      <td>0.265</td>\n",
       "      <td>93.982</td>\n",
       "      <td>...</td>\n",
       "      <td>0</td>\n",
       "      <td>0</td>\n",
       "      <td>0</td>\n",
       "      <td>0</td>\n",
       "      <td>0</td>\n",
       "      <td>0</td>\n",
       "      <td>0</td>\n",
       "      <td>0</td>\n",
       "      <td>0</td>\n",
       "      <td>1</td>\n",
       "    </tr>\n",
       "    <tr>\n",
       "      <th>3</th>\n",
       "      <td>0.565</td>\n",
       "      <td>0.594</td>\n",
       "      <td>-13.086</td>\n",
       "      <td>1</td>\n",
       "      <td>0.0646</td>\n",
       "      <td>0.655000</td>\n",
       "      <td>0.926000</td>\n",
       "      <td>0.6750</td>\n",
       "      <td>0.763</td>\n",
       "      <td>114.219</td>\n",
       "      <td>...</td>\n",
       "      <td>0</td>\n",
       "      <td>0</td>\n",
       "      <td>0</td>\n",
       "      <td>0</td>\n",
       "      <td>0</td>\n",
       "      <td>0</td>\n",
       "      <td>0</td>\n",
       "      <td>0</td>\n",
       "      <td>0</td>\n",
       "      <td>1</td>\n",
       "    </tr>\n",
       "    <tr>\n",
       "      <th>4</th>\n",
       "      <td>0.513</td>\n",
       "      <td>0.760</td>\n",
       "      <td>-10.077</td>\n",
       "      <td>1</td>\n",
       "      <td>0.0355</td>\n",
       "      <td>0.000017</td>\n",
       "      <td>0.003390</td>\n",
       "      <td>0.1530</td>\n",
       "      <td>0.961</td>\n",
       "      <td>153.166</td>\n",
       "      <td>...</td>\n",
       "      <td>0</td>\n",
       "      <td>0</td>\n",
       "      <td>0</td>\n",
       "      <td>0</td>\n",
       "      <td>0</td>\n",
       "      <td>0</td>\n",
       "      <td>0</td>\n",
       "      <td>0</td>\n",
       "      <td>0</td>\n",
       "      <td>1</td>\n",
       "    </tr>\n",
       "    <tr>\n",
       "      <th>...</th>\n",
       "      <td>...</td>\n",
       "      <td>...</td>\n",
       "      <td>...</td>\n",
       "      <td>...</td>\n",
       "      <td>...</td>\n",
       "      <td>...</td>\n",
       "      <td>...</td>\n",
       "      <td>...</td>\n",
       "      <td>...</td>\n",
       "      <td>...</td>\n",
       "      <td>...</td>\n",
       "      <td>...</td>\n",
       "      <td>...</td>\n",
       "      <td>...</td>\n",
       "      <td>...</td>\n",
       "      <td>...</td>\n",
       "      <td>...</td>\n",
       "      <td>...</td>\n",
       "      <td>...</td>\n",
       "      <td>...</td>\n",
       "      <td>...</td>\n",
       "    </tr>\n",
       "    <tr>\n",
       "      <th>41101</th>\n",
       "      <td>0.373</td>\n",
       "      <td>0.417</td>\n",
       "      <td>-12.273</td>\n",
       "      <td>0</td>\n",
       "      <td>0.0934</td>\n",
       "      <td>0.858000</td>\n",
       "      <td>0.462000</td>\n",
       "      <td>0.0425</td>\n",
       "      <td>0.588</td>\n",
       "      <td>174.359</td>\n",
       "      <td>...</td>\n",
       "      <td>0</td>\n",
       "      <td>1</td>\n",
       "      <td>0</td>\n",
       "      <td>0</td>\n",
       "      <td>0</td>\n",
       "      <td>0</td>\n",
       "      <td>0</td>\n",
       "      <td>1</td>\n",
       "      <td>0</td>\n",
       "      <td>0</td>\n",
       "    </tr>\n",
       "    <tr>\n",
       "      <th>41102</th>\n",
       "      <td>0.470</td>\n",
       "      <td>0.490</td>\n",
       "      <td>-11.630</td>\n",
       "      <td>1</td>\n",
       "      <td>0.0915</td>\n",
       "      <td>0.064900</td>\n",
       "      <td>0.000001</td>\n",
       "      <td>0.0574</td>\n",
       "      <td>0.644</td>\n",
       "      <td>176.523</td>\n",
       "      <td>...</td>\n",
       "      <td>0</td>\n",
       "      <td>0</td>\n",
       "      <td>0</td>\n",
       "      <td>0</td>\n",
       "      <td>0</td>\n",
       "      <td>0</td>\n",
       "      <td>0</td>\n",
       "      <td>1</td>\n",
       "      <td>0</td>\n",
       "      <td>0</td>\n",
       "    </tr>\n",
       "    <tr>\n",
       "      <th>41103</th>\n",
       "      <td>0.253</td>\n",
       "      <td>0.550</td>\n",
       "      <td>-7.743</td>\n",
       "      <td>1</td>\n",
       "      <td>0.0305</td>\n",
       "      <td>0.155000</td>\n",
       "      <td>0.000021</td>\n",
       "      <td>0.0786</td>\n",
       "      <td>0.643</td>\n",
       "      <td>100.011</td>\n",
       "      <td>...</td>\n",
       "      <td>0</td>\n",
       "      <td>0</td>\n",
       "      <td>0</td>\n",
       "      <td>0</td>\n",
       "      <td>0</td>\n",
       "      <td>0</td>\n",
       "      <td>0</td>\n",
       "      <td>1</td>\n",
       "      <td>0</td>\n",
       "      <td>0</td>\n",
       "    </tr>\n",
       "    <tr>\n",
       "      <th>41104</th>\n",
       "      <td>0.419</td>\n",
       "      <td>0.124</td>\n",
       "      <td>-21.666</td>\n",
       "      <td>1</td>\n",
       "      <td>0.0340</td>\n",
       "      <td>0.800000</td>\n",
       "      <td>0.000100</td>\n",
       "      <td>0.1310</td>\n",
       "      <td>0.178</td>\n",
       "      <td>91.439</td>\n",
       "      <td>...</td>\n",
       "      <td>0</td>\n",
       "      <td>0</td>\n",
       "      <td>0</td>\n",
       "      <td>0</td>\n",
       "      <td>0</td>\n",
       "      <td>0</td>\n",
       "      <td>0</td>\n",
       "      <td>1</td>\n",
       "      <td>0</td>\n",
       "      <td>0</td>\n",
       "    </tr>\n",
       "    <tr>\n",
       "      <th>41105</th>\n",
       "      <td>0.810</td>\n",
       "      <td>0.602</td>\n",
       "      <td>-15.674</td>\n",
       "      <td>0</td>\n",
       "      <td>0.0363</td>\n",
       "      <td>0.004260</td>\n",
       "      <td>0.327000</td>\n",
       "      <td>0.0920</td>\n",
       "      <td>0.964</td>\n",
       "      <td>122.952</td>\n",
       "      <td>...</td>\n",
       "      <td>0</td>\n",
       "      <td>0</td>\n",
       "      <td>0</td>\n",
       "      <td>0</td>\n",
       "      <td>0</td>\n",
       "      <td>0</td>\n",
       "      <td>0</td>\n",
       "      <td>1</td>\n",
       "      <td>0</td>\n",
       "      <td>0</td>\n",
       "    </tr>\n",
       "  </tbody>\n",
       "</table>\n",
       "<p>36001 rows × 33 columns</p>\n",
       "</div>"
      ],
      "text/plain": [
       "       danceability  energy  loudness  mode  speechiness  acousticness  \\\n",
       "0             0.527   0.316   -15.769     1       0.0310      0.693000   \n",
       "1             0.738   0.541    -5.485     1       0.0311      0.559000   \n",
       "2             0.736   0.419   -10.662     1       0.0300      0.693000   \n",
       "3             0.565   0.594   -13.086     1       0.0646      0.655000   \n",
       "4             0.513   0.760   -10.077     1       0.0355      0.000017   \n",
       "...             ...     ...       ...   ...          ...           ...   \n",
       "41101         0.373   0.417   -12.273     0       0.0934      0.858000   \n",
       "41102         0.470   0.490   -11.630     1       0.0915      0.064900   \n",
       "41103         0.253   0.550    -7.743     1       0.0305      0.155000   \n",
       "41104         0.419   0.124   -21.666     1       0.0340      0.800000   \n",
       "41105         0.810   0.602   -15.674     0       0.0363      0.004260   \n",
       "\n",
       "       instrumentalness  liveness  valence    tempo  ...  key_8  key_9  \\\n",
       "0              0.006990    0.1680    0.543  116.211  ...      0      0   \n",
       "1              0.000000    0.0492    0.309  134.187  ...      0      0   \n",
       "2              0.495000    0.0809    0.265   93.982  ...      0      0   \n",
       "3              0.926000    0.6750    0.763  114.219  ...      0      0   \n",
       "4              0.003390    0.1530    0.961  153.166  ...      0      0   \n",
       "...                 ...       ...      ...      ...  ...    ...    ...   \n",
       "41101          0.462000    0.0425    0.588  174.359  ...      0      1   \n",
       "41102          0.000001    0.0574    0.644  176.523  ...      0      0   \n",
       "41103          0.000021    0.0786    0.643  100.011  ...      0      0   \n",
       "41104          0.000100    0.1310    0.178   91.439  ...      0      0   \n",
       "41105          0.327000    0.0920    0.964  122.952  ...      0      0   \n",
       "\n",
       "       key_10  key_11  decade_00s  decade_10s  decade_60s  decade_70s  \\\n",
       "0           0       0           0           0           0           0   \n",
       "1           0       0           0           0           0           0   \n",
       "2           0       0           0           0           0           0   \n",
       "3           0       0           0           0           0           0   \n",
       "4           0       0           0           0           0           0   \n",
       "...       ...     ...         ...         ...         ...         ...   \n",
       "41101       0       0           0           0           0           1   \n",
       "41102       0       0           0           0           0           1   \n",
       "41103       0       0           0           0           0           1   \n",
       "41104       0       0           0           0           0           1   \n",
       "41105       0       0           0           0           0           1   \n",
       "\n",
       "       decade_80s  decade_90s  \n",
       "0               0           1  \n",
       "1               0           1  \n",
       "2               0           1  \n",
       "3               0           1  \n",
       "4               0           1  \n",
       "...           ...         ...  \n",
       "41101           0           0  \n",
       "41102           0           0  \n",
       "41103           0           0  \n",
       "41104           0           0  \n",
       "41105           0           0  \n",
       "\n",
       "[36001 rows x 33 columns]"
      ]
     },
     "execution_count": 26,
     "metadata": {},
     "output_type": "execute_result"
    }
   ],
   "source": [
    "sup_spotify"
   ]
  },
  {
   "cell_type": "markdown",
   "metadata": {},
   "source": [
    "For the next step we will linearlize the dataset to some features don´t rule the others. \\\n",
    "In the interest of preventing information about the distribution of the test set leaking into the model, we should fit the scaler on the training data only, then standardise both training and test sets with the fitted scaler. \\\n",
    "By fitting the scaler on the full dataset prior to splitting, information about the test set is used to transform the training set, which in turn is passed downstream."
   ]
  },
  {
   "cell_type": "code",
   "execution_count": 27,
   "metadata": {},
   "outputs": [],
   "source": [
    "X_hit, y_hit = sup_spotify.drop('hit', axis=1), sup_spotify['hit']\n",
    "X_valence, y_valence = sup_spotify.drop('valence', axis=1), pd.cut(sup_spotify.valence, bins=[0, 0.33, 0.66, 1], labels=['Negative', 'Neutral', 'Positive'], include_lowest=True)\n",
    "X_train_hit, X_test_hit, y_train_hit, y_test_hit = train_test_split(X_hit, y_hit, random_state=42)"
   ]
  },
  {
   "cell_type": "code",
   "execution_count": 28,
   "metadata": {},
   "outputs": [],
   "source": [
    "X_train_hit, scaler = scale(X_train_hit)\n",
    "X_test_hit, scaler = scale(X_test_hit, scaler)"
   ]
  },
  {
   "cell_type": "code",
   "execution_count": 29,
   "metadata": {},
   "outputs": [
    {
     "data": {
      "text/html": [
       "<div>\n",
       "<style scoped>\n",
       "    .dataframe tbody tr th:only-of-type {\n",
       "        vertical-align: middle;\n",
       "    }\n",
       "\n",
       "    .dataframe tbody tr th {\n",
       "        vertical-align: top;\n",
       "    }\n",
       "\n",
       "    .dataframe thead th {\n",
       "        text-align: right;\n",
       "    }\n",
       "</style>\n",
       "<table border=\"1\" class=\"dataframe\">\n",
       "  <thead>\n",
       "    <tr style=\"text-align: right;\">\n",
       "      <th></th>\n",
       "      <th>danceability</th>\n",
       "      <th>energy</th>\n",
       "      <th>loudness</th>\n",
       "      <th>mode</th>\n",
       "      <th>speechiness</th>\n",
       "      <th>acousticness</th>\n",
       "      <th>instrumentalness</th>\n",
       "      <th>liveness</th>\n",
       "      <th>valence</th>\n",
       "      <th>tempo</th>\n",
       "      <th>...</th>\n",
       "      <th>key_8</th>\n",
       "      <th>key_9</th>\n",
       "      <th>key_10</th>\n",
       "      <th>key_11</th>\n",
       "      <th>decade_00s</th>\n",
       "      <th>decade_10s</th>\n",
       "      <th>decade_60s</th>\n",
       "      <th>decade_70s</th>\n",
       "      <th>decade_80s</th>\n",
       "      <th>decade_90s</th>\n",
       "    </tr>\n",
       "  </thead>\n",
       "  <tbody>\n",
       "    <tr>\n",
       "      <th>0</th>\n",
       "      <td>-1.560205</td>\n",
       "      <td>-0.697786</td>\n",
       "      <td>-0.277065</td>\n",
       "      <td>0.663967</td>\n",
       "      <td>-0.597408</td>\n",
       "      <td>0.831988</td>\n",
       "      <td>-0.445687</td>\n",
       "      <td>2.052817</td>\n",
       "      <td>-1.444712</td>\n",
       "      <td>-0.455643</td>\n",
       "      <td>...</td>\n",
       "      <td>-0.237081</td>\n",
       "      <td>-0.352934</td>\n",
       "      <td>-0.268674</td>\n",
       "      <td>-0.267960</td>\n",
       "      <td>-0.404192</td>\n",
       "      <td>-0.414919</td>\n",
       "      <td>1.935811</td>\n",
       "      <td>-0.497534</td>\n",
       "      <td>-0.453430</td>\n",
       "      <td>-0.39183</td>\n",
       "    </tr>\n",
       "    <tr>\n",
       "      <th>1</th>\n",
       "      <td>0.813764</td>\n",
       "      <td>-0.335019</td>\n",
       "      <td>-0.760891</td>\n",
       "      <td>-1.506100</td>\n",
       "      <td>-0.407266</td>\n",
       "      <td>-0.104512</td>\n",
       "      <td>1.915788</td>\n",
       "      <td>-0.911429</td>\n",
       "      <td>0.866019</td>\n",
       "      <td>-0.376417</td>\n",
       "      <td>...</td>\n",
       "      <td>-0.237081</td>\n",
       "      <td>-0.352934</td>\n",
       "      <td>-0.268674</td>\n",
       "      <td>-0.267960</td>\n",
       "      <td>-0.404192</td>\n",
       "      <td>-0.414919</td>\n",
       "      <td>-0.516579</td>\n",
       "      <td>2.009914</td>\n",
       "      <td>-0.453430</td>\n",
       "      <td>-0.39183</td>\n",
       "    </tr>\n",
       "    <tr>\n",
       "      <th>2</th>\n",
       "      <td>-0.498627</td>\n",
       "      <td>-0.512280</td>\n",
       "      <td>-0.511721</td>\n",
       "      <td>0.663967</td>\n",
       "      <td>-0.518339</td>\n",
       "      <td>0.804711</td>\n",
       "      <td>-0.476722</td>\n",
       "      <td>2.954883</td>\n",
       "      <td>0.969314</td>\n",
       "      <td>-0.346286</td>\n",
       "      <td>...</td>\n",
       "      <td>4.217965</td>\n",
       "      <td>-0.352934</td>\n",
       "      <td>-0.268674</td>\n",
       "      <td>-0.267960</td>\n",
       "      <td>-0.404192</td>\n",
       "      <td>-0.414919</td>\n",
       "      <td>1.935811</td>\n",
       "      <td>-0.497534</td>\n",
       "      <td>-0.453430</td>\n",
       "      <td>-0.39183</td>\n",
       "    </tr>\n",
       "    <tr>\n",
       "      <th>3</th>\n",
       "      <td>0.533787</td>\n",
       "      <td>0.596632</td>\n",
       "      <td>0.609878</td>\n",
       "      <td>-1.506100</td>\n",
       "      <td>0.033261</td>\n",
       "      <td>0.880480</td>\n",
       "      <td>-0.481684</td>\n",
       "      <td>-0.520287</td>\n",
       "      <td>1.045828</td>\n",
       "      <td>-0.227429</td>\n",
       "      <td>...</td>\n",
       "      <td>-0.237081</td>\n",
       "      <td>-0.352934</td>\n",
       "      <td>-0.268674</td>\n",
       "      <td>-0.267960</td>\n",
       "      <td>-0.404192</td>\n",
       "      <td>2.410109</td>\n",
       "      <td>-0.516579</td>\n",
       "      <td>-0.497534</td>\n",
       "      <td>-0.453430</td>\n",
       "      <td>-0.39183</td>\n",
       "    </tr>\n",
       "    <tr>\n",
       "      <th>4</th>\n",
       "      <td>0.708772</td>\n",
       "      <td>-0.009353</td>\n",
       "      <td>1.097443</td>\n",
       "      <td>-1.506100</td>\n",
       "      <td>-0.508926</td>\n",
       "      <td>-0.737937</td>\n",
       "      <td>-0.482174</td>\n",
       "      <td>-0.394590</td>\n",
       "      <td>-0.423246</td>\n",
       "      <td>-0.331150</td>\n",
       "      <td>...</td>\n",
       "      <td>-0.237081</td>\n",
       "      <td>-0.352934</td>\n",
       "      <td>-0.268674</td>\n",
       "      <td>-0.267960</td>\n",
       "      <td>-0.404192</td>\n",
       "      <td>2.410109</td>\n",
       "      <td>-0.516579</td>\n",
       "      <td>-0.497534</td>\n",
       "      <td>-0.453430</td>\n",
       "      <td>-0.39183</td>\n",
       "    </tr>\n",
       "    <tr>\n",
       "      <th>...</th>\n",
       "      <td>...</td>\n",
       "      <td>...</td>\n",
       "      <td>...</td>\n",
       "      <td>...</td>\n",
       "      <td>...</td>\n",
       "      <td>...</td>\n",
       "      <td>...</td>\n",
       "      <td>...</td>\n",
       "      <td>...</td>\n",
       "      <td>...</td>\n",
       "      <td>...</td>\n",
       "      <td>...</td>\n",
       "      <td>...</td>\n",
       "      <td>...</td>\n",
       "      <td>...</td>\n",
       "      <td>...</td>\n",
       "      <td>...</td>\n",
       "      <td>...</td>\n",
       "      <td>...</td>\n",
       "      <td>...</td>\n",
       "      <td>...</td>\n",
       "    </tr>\n",
       "    <tr>\n",
       "      <th>8996</th>\n",
       "      <td>1.910339</td>\n",
       "      <td>1.091314</td>\n",
       "      <td>0.094162</td>\n",
       "      <td>-1.506100</td>\n",
       "      <td>2.025044</td>\n",
       "      <td>-0.059050</td>\n",
       "      <td>-0.482148</td>\n",
       "      <td>-0.969102</td>\n",
       "      <td>1.152948</td>\n",
       "      <td>-0.113853</td>\n",
       "      <td>...</td>\n",
       "      <td>-0.237081</td>\n",
       "      <td>-0.352934</td>\n",
       "      <td>-0.268674</td>\n",
       "      <td>-0.267960</td>\n",
       "      <td>-0.404192</td>\n",
       "      <td>2.410109</td>\n",
       "      <td>-0.516579</td>\n",
       "      <td>-0.497534</td>\n",
       "      <td>-0.453430</td>\n",
       "      <td>-0.39183</td>\n",
       "    </tr>\n",
       "    <tr>\n",
       "      <th>8997</th>\n",
       "      <td>1.204565</td>\n",
       "      <td>1.190251</td>\n",
       "      <td>0.216439</td>\n",
       "      <td>0.663967</td>\n",
       "      <td>-0.493865</td>\n",
       "      <td>0.019749</td>\n",
       "      <td>-0.482160</td>\n",
       "      <td>0.263474</td>\n",
       "      <td>1.516391</td>\n",
       "      <td>-0.588786</td>\n",
       "      <td>...</td>\n",
       "      <td>-0.237081</td>\n",
       "      <td>-0.352934</td>\n",
       "      <td>-0.268674</td>\n",
       "      <td>-0.267960</td>\n",
       "      <td>-0.404192</td>\n",
       "      <td>-0.414919</td>\n",
       "      <td>-0.516579</td>\n",
       "      <td>2.009914</td>\n",
       "      <td>-0.453430</td>\n",
       "      <td>-0.39183</td>\n",
       "    </tr>\n",
       "    <tr>\n",
       "      <th>8998</th>\n",
       "      <td>-0.790269</td>\n",
       "      <td>1.528284</td>\n",
       "      <td>-0.369212</td>\n",
       "      <td>0.663967</td>\n",
       "      <td>-0.154998</td>\n",
       "      <td>-1.061402</td>\n",
       "      <td>-0.482124</td>\n",
       "      <td>-0.813828</td>\n",
       "      <td>-1.329940</td>\n",
       "      <td>-0.047743</td>\n",
       "      <td>...</td>\n",
       "      <td>-0.237081</td>\n",
       "      <td>-0.352934</td>\n",
       "      <td>-0.268674</td>\n",
       "      <td>-0.267960</td>\n",
       "      <td>-0.404192</td>\n",
       "      <td>-0.414919</td>\n",
       "      <td>-0.516579</td>\n",
       "      <td>-0.497534</td>\n",
       "      <td>2.205412</td>\n",
       "      <td>-0.39183</td>\n",
       "    </tr>\n",
       "    <tr>\n",
       "      <th>8999</th>\n",
       "      <td>-1.507710</td>\n",
       "      <td>-0.339141</td>\n",
       "      <td>-1.199854</td>\n",
       "      <td>0.663967</td>\n",
       "      <td>-0.540930</td>\n",
       "      <td>0.962310</td>\n",
       "      <td>2.610850</td>\n",
       "      <td>1.261662</td>\n",
       "      <td>-1.834552</td>\n",
       "      <td>-0.573685</td>\n",
       "      <td>...</td>\n",
       "      <td>4.217965</td>\n",
       "      <td>-0.352934</td>\n",
       "      <td>-0.268674</td>\n",
       "      <td>-0.267960</td>\n",
       "      <td>-0.404192</td>\n",
       "      <td>-0.414919</td>\n",
       "      <td>-0.516579</td>\n",
       "      <td>2.009914</td>\n",
       "      <td>-0.453430</td>\n",
       "      <td>-0.39183</td>\n",
       "    </tr>\n",
       "    <tr>\n",
       "      <th>9000</th>\n",
       "      <td>0.201315</td>\n",
       "      <td>0.060727</td>\n",
       "      <td>0.766901</td>\n",
       "      <td>0.663967</td>\n",
       "      <td>-0.659533</td>\n",
       "      <td>0.053087</td>\n",
       "      <td>-0.482178</td>\n",
       "      <td>0.263474</td>\n",
       "      <td>-0.648963</td>\n",
       "      <td>-1.608058</td>\n",
       "      <td>...</td>\n",
       "      <td>-0.237081</td>\n",
       "      <td>-0.352934</td>\n",
       "      <td>-0.268674</td>\n",
       "      <td>3.731894</td>\n",
       "      <td>-0.404192</td>\n",
       "      <td>-0.414919</td>\n",
       "      <td>-0.516579</td>\n",
       "      <td>-0.497534</td>\n",
       "      <td>2.205412</td>\n",
       "      <td>-0.39183</td>\n",
       "    </tr>\n",
       "  </tbody>\n",
       "</table>\n",
       "<p>9001 rows × 32 columns</p>\n",
       "</div>"
      ],
      "text/plain": [
       "      danceability    energy  loudness      mode  speechiness  acousticness  \\\n",
       "0        -1.560205 -0.697786 -0.277065  0.663967    -0.597408      0.831988   \n",
       "1         0.813764 -0.335019 -0.760891 -1.506100    -0.407266     -0.104512   \n",
       "2        -0.498627 -0.512280 -0.511721  0.663967    -0.518339      0.804711   \n",
       "3         0.533787  0.596632  0.609878 -1.506100     0.033261      0.880480   \n",
       "4         0.708772 -0.009353  1.097443 -1.506100    -0.508926     -0.737937   \n",
       "...            ...       ...       ...       ...          ...           ...   \n",
       "8996      1.910339  1.091314  0.094162 -1.506100     2.025044     -0.059050   \n",
       "8997      1.204565  1.190251  0.216439  0.663967    -0.493865      0.019749   \n",
       "8998     -0.790269  1.528284 -0.369212  0.663967    -0.154998     -1.061402   \n",
       "8999     -1.507710 -0.339141 -1.199854  0.663967    -0.540930      0.962310   \n",
       "9000      0.201315  0.060727  0.766901  0.663967    -0.659533      0.053087   \n",
       "\n",
       "      instrumentalness  liveness   valence     tempo  ...     key_8     key_9  \\\n",
       "0            -0.445687  2.052817 -1.444712 -0.455643  ... -0.237081 -0.352934   \n",
       "1             1.915788 -0.911429  0.866019 -0.376417  ... -0.237081 -0.352934   \n",
       "2            -0.476722  2.954883  0.969314 -0.346286  ...  4.217965 -0.352934   \n",
       "3            -0.481684 -0.520287  1.045828 -0.227429  ... -0.237081 -0.352934   \n",
       "4            -0.482174 -0.394590 -0.423246 -0.331150  ... -0.237081 -0.352934   \n",
       "...                ...       ...       ...       ...  ...       ...       ...   \n",
       "8996         -0.482148 -0.969102  1.152948 -0.113853  ... -0.237081 -0.352934   \n",
       "8997         -0.482160  0.263474  1.516391 -0.588786  ... -0.237081 -0.352934   \n",
       "8998         -0.482124 -0.813828 -1.329940 -0.047743  ... -0.237081 -0.352934   \n",
       "8999          2.610850  1.261662 -1.834552 -0.573685  ...  4.217965 -0.352934   \n",
       "9000         -0.482178  0.263474 -0.648963 -1.608058  ... -0.237081 -0.352934   \n",
       "\n",
       "        key_10    key_11  decade_00s  decade_10s  decade_60s  decade_70s  \\\n",
       "0    -0.268674 -0.267960   -0.404192   -0.414919    1.935811   -0.497534   \n",
       "1    -0.268674 -0.267960   -0.404192   -0.414919   -0.516579    2.009914   \n",
       "2    -0.268674 -0.267960   -0.404192   -0.414919    1.935811   -0.497534   \n",
       "3    -0.268674 -0.267960   -0.404192    2.410109   -0.516579   -0.497534   \n",
       "4    -0.268674 -0.267960   -0.404192    2.410109   -0.516579   -0.497534   \n",
       "...        ...       ...         ...         ...         ...         ...   \n",
       "8996 -0.268674 -0.267960   -0.404192    2.410109   -0.516579   -0.497534   \n",
       "8997 -0.268674 -0.267960   -0.404192   -0.414919   -0.516579    2.009914   \n",
       "8998 -0.268674 -0.267960   -0.404192   -0.414919   -0.516579   -0.497534   \n",
       "8999 -0.268674 -0.267960   -0.404192   -0.414919   -0.516579    2.009914   \n",
       "9000 -0.268674  3.731894   -0.404192   -0.414919   -0.516579   -0.497534   \n",
       "\n",
       "      decade_80s  decade_90s  \n",
       "0      -0.453430    -0.39183  \n",
       "1      -0.453430    -0.39183  \n",
       "2      -0.453430    -0.39183  \n",
       "3      -0.453430    -0.39183  \n",
       "4      -0.453430    -0.39183  \n",
       "...          ...         ...  \n",
       "8996   -0.453430    -0.39183  \n",
       "8997   -0.453430    -0.39183  \n",
       "8998    2.205412    -0.39183  \n",
       "8999   -0.453430    -0.39183  \n",
       "9000    2.205412    -0.39183  \n",
       "\n",
       "[9001 rows x 32 columns]"
      ]
     },
     "execution_count": 29,
     "metadata": {},
     "output_type": "execute_result"
    }
   ],
   "source": [
    "X_test_hit"
   ]
  },
  {
   "cell_type": "code",
   "execution_count": 30,
   "metadata": {},
   "outputs": [],
   "source": [
    "X_valence, y_valence = sup_spotify.drop('valence', axis=1), pd.cut(sup_spotify.valence, bins=[0, 0.33, 0.66, 1], labels=['Negative', 'Neutral', 'Positive'], include_lowest=True)\n",
    "X_train_valence, X_test_valence, y_train_valence, y_test_valence = train_test_split(X_valence, y_valence, random_state=42)\n",
    "\n",
    "X_train_valence, scaler = scale(X_train_valence)\n",
    "X_test_valence, scaler = scale(X_test_valence, scaler)"
   ]
  },
  {
   "cell_type": "markdown",
   "metadata": {},
   "source": [
    "## 1.2. Learning Classifiers"
   ]
  },
  {
   "cell_type": "markdown",
   "metadata": {},
   "source": [
    "For each classifier:\n",
    "1) Separate dataset into train and test data \\\n",
    "2) Use k-fold Cross-validation to test \\\n",
    "3) Test with test data - (used to test with independent data from the learned data)\n",
    "\n",
    "We also need to use grid-search from sklearn to test hyper parameters"
   ]
  },
  {
   "cell_type": "markdown",
   "metadata": {},
   "source": [
    "### 1.2.1. Decision Tree"
   ]
  },
  {
   "cell_type": "markdown",
   "metadata": {},
   "source": [
    "We will train 4 Decision Tree Classifiers. Two of them we will be trained with the hit as the target and the other two using the discrete valence as the target. \\\n",
    "For each target we will train one of the Decision Trees using the criterion entropy and the other using the gini entropy. We don't consider relevant to variate the other DecisionTreeClassifier parameters."
   ]
  },
  {
   "cell_type": "code",
   "execution_count": 31,
   "metadata": {},
   "outputs": [],
   "source": [
    "import seaborn as sns; sns.set()"
   ]
  },
  {
   "cell_type": "code",
   "execution_count": 32,
   "metadata": {},
   "outputs": [],
   "source": [
    "clf_dt_hit_e = tree.DecisionTreeClassifier(criterion = \"entropy\", random_state=42)\n",
    "clf_dt_hit_g = tree.DecisionTreeClassifier(criterion = \"gini\", random_state=42)\n",
    "clf_dt_valence_e = tree.DecisionTreeClassifier(criterion = \"entropy\", random_state=42)\n",
    "clf_dt_valence_g = tree.DecisionTreeClassifier(criterion = \"gini\", random_state=42)"
   ]
  },
  {
   "cell_type": "code",
   "execution_count": 33,
   "metadata": {},
   "outputs": [
    {
     "name": "stdout",
     "output_type": "stream",
     "text": [
      "Wall time: 1.97 s\n"
     ]
    }
   ],
   "source": [
    "%%time\n",
    "clf_dt_hit_e = clf_dt_hit_e.fit(X_train_hit, y_train_hit)\n",
    "clf_dt_hit_g = clf_dt_hit_g.fit(X_train_hit, y_train_hit)\n",
    "clf_dt_valence_e = clf_dt_valence_e.fit(X_train_valence, y_train_valence)\n",
    "clf_dt_valence_g = clf_dt_valence_g.fit(X_train_valence, y_train_valence)"
   ]
  },
  {
   "cell_type": "markdown",
   "metadata": {},
   "source": [
    "Plotting the hit trees trained with different criterion makes the diffence in the splitting point clear."
   ]
  },
  {
   "cell_type": "code",
   "execution_count": 34,
   "metadata": {},
   "outputs": [
    {
     "data": {
      "image/png": "[encoded data removed]",
      "text/plain": [
       "<Figure size 864x360 with 2 Axes>"
      ]
     },
     "metadata": {},
     "output_type": "display_data"
    }
   ],
   "source": [
    "fig, (ax1, ax2) = plt.subplots(1, 2, figsize=(12,5))\n",
    "plot_tree(clf_dt_hit_e,\n",
    "         filled = True,\n",
    "         rounded=True,\n",
    "         class_names=['Hit','Not_Hit'],\n",
    "         feature_names=X_valence.columns,\n",
    "         max_depth=1,\n",
    "         fontsize=12,\n",
    "         ax=ax1);\n",
    "plot_tree(clf_dt_hit_g,\n",
    "         filled = True,\n",
    "         rounded=True,\n",
    "         class_names=['Hit','Not_Hit'],\n",
    "         feature_names=X_valence.columns,\n",
    "         max_depth=1,\n",
    "         fontsize=12,\n",
    "         ax=ax2);"
   ]
  },
  {
   "cell_type": "markdown",
   "metadata": {},
   "source": [
    "We know want to know which criterion gives our model best performance. As we only want to use the test set to verify performance against other models here we will use cross validation."
   ]
  },
  {
   "cell_type": "code",
   "execution_count": 35,
   "metadata": {},
   "outputs": [
    {
     "name": "stdout",
     "output_type": "stream",
     "text": [
      "Cross validarion score with entropy criterion for hit target - 0.7083333333333334\n",
      "Cross validarion score with gini criterion for hit target - 0.7056666666666667\n"
     ]
    }
   ],
   "source": [
    "cross_score = np.mean(cross_val_score(clf_dt_hit_e, X_train_hit, y_train_hit, cv=6, n_jobs=-1))\n",
    "print(\"Cross validarion score with entropy criterion for hit target - \" + str(cross_score))\n",
    "cross_score = np.mean(cross_val_score(clf_dt_hit_g, X_train_hit, y_train_hit, cv=6, n_jobs=-1))\n",
    "print(\"Cross validarion score with gini criterion for hit target - \" + str(cross_score))"
   ]
  },
  {
   "cell_type": "code",
   "execution_count": 36,
   "metadata": {},
   "outputs": [
    {
     "name": "stdout",
     "output_type": "stream",
     "text": [
      "Cross validarion score with entropy criterion for discrete valence target - 0.5508888888888889\n",
      "Cross validarion score with gini criterion for discrete valence target - 0.5518518518518518\n"
     ]
    }
   ],
   "source": [
    "cross_score = np.mean(cross_val_score(clf_dt_valence_e, X_train_valence, y_train_valence, cv=6, n_jobs=-1))\n",
    "print(\"Cross validarion score with entropy criterion for discrete valence target - \" + str(cross_score))\n",
    "cross_score = np.mean(cross_val_score(clf_dt_valence_g, X_train_valence, y_train_valence, cv=6, n_jobs=-1))\n",
    "print(\"Cross validarion score with gini criterion for discrete valence target - \" + str(cross_score))"
   ]
  },
  {
   "cell_type": "markdown",
   "metadata": {},
   "source": [
    "On both targets entropy criterion and gini had a similar score because of that we choose a random one, in this case entropy to use for latter model comparision."
   ]
  },
  {
   "cell_type": "markdown",
   "metadata": {},
   "source": [
    "### 1.2.2. Support Vector Machine"
   ]
  },
  {
   "cell_type": "markdown",
   "metadata": {},
   "source": [
    "The objective is to find the optimal support vector machine parameters to maximize the model performance (measured with accuracy by default).\\\n",
    "We will use the list of parameters defined below. We choose to vary C and gamma on a range of values we thought were a good bet. The reason why we didn't choose more values for C or gamma or even other kernels and other parameters is because of time. As it is, it took 3 hours for each fitting on a 16 thread CPU."
   ]
  },
  {
   "cell_type": "code",
   "execution_count": 37,
   "metadata": {},
   "outputs": [],
   "source": [
    "# defining parameter range\n",
    "param_grid = {'C': [10, 100, 1000, 5000],\n",
    "              'gamma': [0.1, 0.01, 0.001, 0.0001],\n",
    "              'kernel': ['rbf'],\n",
    "              'cache_size': [10000],\n",
    "              'random_state': [42]}"
   ]
  },
  {
   "cell_type": "code",
   "execution_count": 38,
   "metadata": {},
   "outputs": [],
   "source": [
    "grid_svm_hit = GridSearchCV(svm.SVC(), param_grid, n_jobs=-1)\n",
    "grid_svm_hit.fit(X_train_hit, y_train_hit)"
   ]
  },
  {
   "cell_type": "code",
   "execution_count": null,
   "metadata": {},
   "outputs": [
    {
     "name": "stdout",
     "output_type": "stream",
     "text": [
      "Wall time: 3h 7min 58s\n"
     ]
    },
    {
     "data": {
      "text/plain": [
       "GridSearchCV(estimator=SVC(), n_jobs=-1,\n",
       "             param_grid={'C': [10, 100, 1000, 5000], 'cache_size': [10000],\n",
       "                         'gamma': [0.1, 0.01, 0.001, 0.0001], 'kernel': ['rbf'],\n",
       "                         'random_state': [42]})"
      ]
     },
     "execution_count": 39,
     "metadata": {},
     "output_type": "execute_result"
    }
   ],
   "source": [
    "\n",
    "grid_svm_valence = GridSearchCV(svm.SVC(), param_grid, n_jobs=-1)\n",
    "grid_svm_valence.fit(X_train_valence, y_train_valence)"
   ]
  },
  {
   "cell_type": "code",
   "execution_count": null,
   "metadata": {},
   "outputs": [
    {
     "name": "stdout",
     "output_type": "stream",
     "text": [
      "Best parameters for svm hit - {'C': 5000, 'cache_size': 10000, 'gamma': 0.001, 'kernel': 'rbf', 'random_state': 42}\n",
      "Best parameters for svm valence - {'C': 5000, 'cache_size': 10000, 'gamma': 0.001, 'kernel': 'rbf', 'random_state': 42}\n"
     ]
    }
   ],
   "source": [
    "# print best parameter after tuning\n",
    "print(\"Best parameters for svm hit - \" + str(grid_svm_hit.best_params_))\n",
    "print(\"Best parameters for svm valence - \" + str(grid_svm_valence.best_params_))"
   ]
  },
  {
   "cell_type": "markdown",
   "metadata": {},
   "source": [
    "{'C': 10, 'cache_size': 10000, 'gamma': 0.01, 'kernel': 'rbf'}\n",
    "SVC(C=10, cache_size=10000, gamma=0.01)"
   ]
  },
  {
   "cell_type": "markdown",
   "metadata": {},
   "source": [
    "As the optimal C and gamma values are neither the max or the min values choosen then we think we found a good optimal point"
   ]
  },
  {
   "cell_type": "markdown",
   "metadata": {},
   "source": [
    "### 1.2.3. K-Nearest Neighbors"
   ]
  },
  {
   "cell_type": "code",
   "execution_count": null,
   "metadata": {},
   "outputs": [],
   "source": [
    "param_grid = {'n_neighbors': [5, 10, 15],\n",
    "              'weights': ['uniform', 'distance'],\n",
    "              'metric': ['euclidean', 'manhattan'],\n",
    "              'n_jobs': [-1]}"
   ]
  },
  {
   "cell_type": "code",
   "execution_count": null,
   "metadata": {},
   "outputs": [
    {
     "name": "stdout",
     "output_type": "stream",
     "text": [
      "Wall time: 1min 17s\n"
     ]
    },
    {
     "data": {
      "text/plain": [
       "GridSearchCV(estimator=KNeighborsClassifier(), n_jobs=-1,\n",
       "             param_grid={'metric': ['euclidean', 'manhattan'], 'n_jobs': [-1],\n",
       "                         'n_neighbors': [5, 10, 15],\n",
       "                         'weights': ['uniform', 'distance']})"
      ]
     },
     "execution_count": 42,
     "metadata": {},
     "output_type": "execute_result"
    }
   ],
   "source": [
    "grid_knn_hit = GridSearchCV(KNeighborsClassifier(), param_grid, n_jobs=-1)\n",
    "grid_knn_hit.fit(X_train_hit, y_train_hit)"
   ]
  },
  {
   "cell_type": "code",
   "execution_count": null,
   "metadata": {},
   "outputs": [
    {
     "name": "stdout",
     "output_type": "stream",
     "text": [
      "Wall time: 1min 15s\n"
     ]
    },
    {
     "data": {
      "text/plain": [
       "GridSearchCV(estimator=KNeighborsClassifier(), n_jobs=-1,\n",
       "             param_grid={'metric': ['euclidean', 'manhattan'], 'n_jobs': [-1],\n",
       "                         'n_neighbors': [5, 10, 15],\n",
       "                         'weights': ['uniform', 'distance']})"
      ]
     },
     "execution_count": 43,
     "metadata": {},
     "output_type": "execute_result"
    }
   ],
   "source": [
    "\n",
    "grid_knn_valence = GridSearchCV(KNeighborsClassifier(), param_grid, n_jobs=-1)\n",
    "grid_knn_valence.fit(X_train_valence, y_train_valence)"
   ]
  },
  {
   "cell_type": "code",
   "execution_count": null,
   "metadata": {},
   "outputs": [
    {
     "name": "stdout",
     "output_type": "stream",
     "text": [
      "Best parameters for svm hit - {'metric': 'manhattan', 'n_jobs': -1, 'n_neighbors': 10, 'weights': 'uniform'}\n",
      "Best parameters for svm valence - {'metric': 'manhattan', 'n_jobs': -1, 'n_neighbors': 10, 'weights': 'uniform'}\n"
     ]
    }
   ],
   "source": [
    "print(\"Best parameters for svm hit - \" + str(grid_knn_hit.best_params_))\n",
    "print(\"Best parameters for svm valence - \" + str(grid_knn_hit.best_params_))"
   ]
  },
  {
   "cell_type": "markdown",
   "metadata": {},
   "source": [
    "### 1.2.4. Naive Bayes"
   ]
  },
  {
   "cell_type": "markdown",
   "metadata": {},
   "source": [
    "In Gaussian Naive Bayes there is no hyper-parameter to tune so we can just fit the model with the data"
   ]
  },
  {
   "cell_type": "code",
   "execution_count": null,
   "metadata": {},
   "outputs": [
    {
     "name": "stdout",
     "output_type": "stream",
     "text": [
      "Wall time: 0 ns\n"
     ]
    },
    {
     "data": {
      "text/plain": [
       "GaussianNB()"
      ]
     },
     "execution_count": 45,
     "metadata": {},
     "output_type": "execute_result"
    }
   ],
   "source": [
    "\n",
    "gnb_hit = GaussianNB()\n",
    "gnb_hit.fit(X_train_hit, y_train_hit)"
   ]
  },
  {
   "cell_type": "code",
   "execution_count": null,
   "metadata": {},
   "outputs": [
    {
     "name": "stdout",
     "output_type": "stream",
     "text": [
      "Wall time: 46.9 ms\n"
     ]
    },
    {
     "data": {
      "text/plain": [
       "GaussianNB()"
      ]
     },
     "execution_count": 46,
     "metadata": {},
     "output_type": "execute_result"
    }
   ],
   "source": [
    "\n",
    "gnb_valence = GaussianNB()\n",
    "gnb_valence.fit(X_train_valence, y_train_valence)"
   ]
  },
  {
   "cell_type": "markdown",
   "metadata": {},
   "source": [
    "## 1.3. Classification - Results and Discussion "
   ]
  },
  {
   "cell_type": "markdown",
   "metadata": {},
   "source": [
    "### Hit target"
   ]
  },
  {
   "cell_type": "markdown",
   "metadata": {},
   "source": [
    "We will first get the scores for all the trained models:"
   ]
  },
  {
   "cell_type": "code",
   "execution_count": null,
   "metadata": {},
   "outputs": [
    {
     "name": "stdout",
     "output_type": "stream",
     "text": [
      "Wall time: 642 ms\n"
     ]
    }
   ],
   "source": [
    "\n",
    "scores_dt_hit_e = get_scores(clf_dt_hit_e, X_train_hit, X_test_hit, y_train_hit, y_test_hit)"
   ]
  },
  {
   "cell_type": "code",
   "execution_count": null,
   "metadata": {},
   "outputs": [
    {
     "name": "stdout",
     "output_type": "stream",
     "text": [
      "Wall time: 5h 53min 43s\n"
     ]
    }
   ],
   "source": [
    "\n",
    "scores_svm_hit = get_scores(grid_svm_hit, X_train_hit, X_test_hit, y_train_hit, y_test_hit)"
   ]
  },
  {
   "cell_type": "code",
   "execution_count": null,
   "metadata": {},
   "outputs": [
    {
     "name": "stdout",
     "output_type": "stream",
     "text": [
      "Wall time: 1min 40s\n"
     ]
    }
   ],
   "source": [
    "\n",
    "scores_knn_hit = get_scores(grid_knn_hit, X_train_hit, X_test_hit, y_train_hit, y_test_hit)"
   ]
  },
  {
   "cell_type": "code",
   "execution_count": null,
   "metadata": {},
   "outputs": [
    {
     "name": "stdout",
     "output_type": "stream",
     "text": [
      "Wall time: 1.33 s\n"
     ]
    }
   ],
   "source": [
    "\n",
    "scores_gnb_hit = get_scores(gnb_hit, X_train_hit, X_test_hit, y_train_hit, y_test_hit)"
   ]
  },
  {
   "cell_type": "markdown",
   "metadata": {},
   "source": [
    "Now lets plot the confusion matrix of the models and also lets print the cores side by side:"
   ]
  },
  {
   "cell_type": "code",
   "execution_count": null,
   "metadata": {},
   "outputs": [
    {
     "data": {
      "image/png": "[encoded data removed]",
      "text/plain": [
       "<Figure size 720x504 with 4 Axes>"
      ]
     },
     "metadata": {},
     "output_type": "display_data"
    }
   ],
   "source": [
    "fig, axs = plt.subplots(2, 2)\n",
    "fig.set_figheight(7)\n",
    "fig.set_figwidth(10)\n",
    "fig.suptitle('Models confusion matrix hit')\n",
    "axs[0, 0].set_title(\"Decision Tree\")\n",
    "get_cm(y_test_hit, scores_dt_hit_e['preds_test'], clf_dt_hit_e.classes_, axs[0, 0])\n",
    "axs[0, 1].set_title(\"Support Vector Machine\")\n",
    "get_cm(y_test_hit, scores_svm_hit['preds_test'], grid_svm_hit.classes_, axs[0, 1])\n",
    "axs[1, 0].set_title(\"K-Nearest Neighbors\")\n",
    "get_cm(y_test_hit, scores_knn_hit['preds_test'], grid_knn_hit.classes_, axs[1, 0])\n",
    "axs[1, 1].set_title(\"Naive Bayes\")\n",
    "get_cm(y_test_hit, scores_gnb_hit['preds_test'], gnb_hit.classes_, axs[1, 1])"
   ]
  },
  {
   "cell_type": "code",
   "execution_count": null,
   "metadata": {},
   "outputs": [
    {
     "data": {
      "text/html": [
       "<div>\n",
       "<style scoped>\n",
       "    .dataframe tbody tr th:only-of-type {\n",
       "        vertical-align: middle;\n",
       "    }\n",
       "\n",
       "    .dataframe tbody tr th {\n",
       "        vertical-align: top;\n",
       "    }\n",
       "\n",
       "    .dataframe thead th {\n",
       "        text-align: right;\n",
       "    }\n",
       "</style>\n",
       "<table border=\"1\" class=\"dataframe\">\n",
       "  <thead>\n",
       "    <tr style=\"text-align: right;\">\n",
       "      <th></th>\n",
       "      <th>cross_score</th>\n",
       "      <th>acc_train</th>\n",
       "      <th>acc_test</th>\n",
       "      <th>f1</th>\n",
       "      <th>recall</th>\n",
       "    </tr>\n",
       "    <tr>\n",
       "      <th>classifier</th>\n",
       "      <th></th>\n",
       "      <th></th>\n",
       "      <th></th>\n",
       "      <th></th>\n",
       "      <th></th>\n",
       "    </tr>\n",
       "  </thead>\n",
       "  <tbody>\n",
       "    <tr>\n",
       "      <th>Decision Tree</th>\n",
       "      <td>0.706481</td>\n",
       "      <td>1.000000</td>\n",
       "      <td>0.678591</td>\n",
       "      <td>0.678591</td>\n",
       "      <td>0.678591</td>\n",
       "    </tr>\n",
       "    <tr>\n",
       "      <th>Support Vector Machine</th>\n",
       "      <td>0.796444</td>\n",
       "      <td>0.816037</td>\n",
       "      <td>0.789468</td>\n",
       "      <td>0.789468</td>\n",
       "      <td>0.789468</td>\n",
       "    </tr>\n",
       "    <tr>\n",
       "      <th>K-Nearest Neighbors</th>\n",
       "      <td>0.723926</td>\n",
       "      <td>0.790148</td>\n",
       "      <td>0.729475</td>\n",
       "      <td>0.729475</td>\n",
       "      <td>0.729475</td>\n",
       "    </tr>\n",
       "    <tr>\n",
       "      <th>Naive Bayes</th>\n",
       "      <td>0.708630</td>\n",
       "      <td>0.709889</td>\n",
       "      <td>0.695367</td>\n",
       "      <td>0.695367</td>\n",
       "      <td>0.695367</td>\n",
       "    </tr>\n",
       "  </tbody>\n",
       "</table>\n",
       "</div>"
      ],
      "text/plain": [
       "                        cross_score  acc_train  acc_test        f1    recall\n",
       "classifier                                                                  \n",
       "Decision Tree              0.706481   1.000000  0.678591  0.678591  0.678591\n",
       "Support Vector Machine     0.796444   0.816037  0.789468  0.789468  0.789468\n",
       "K-Nearest Neighbors        0.723926   0.790148  0.729475  0.729475  0.729475\n",
       "Naive Bayes                0.708630   0.709889  0.695367  0.695367  0.695367"
      ]
     },
     "metadata": {},
     "output_type": "display_data"
    }
   ],
   "source": [
    "scores_dt_hit_e['classifier'] = \"Decision Tree\"\n",
    "scores_svm_hit['classifier'] = \"Support Vector Machine\"\n",
    "scores_knn_hit['classifier'] = \"K-Nearest Neighbors\"\n",
    "scores_gnb_hit['classifier'] = \"Naive Bayes\"\n",
    "scores_result_hit = pd.DataFrame([scores_dt_hit_e, scores_svm_hit, scores_knn_hit, scores_gnb_hit])\n",
    "scores_result_hit = scores_result_hit.set_index('classifier')\n",
    "scores_result_hit = scores_result_hit.drop(['preds_train','preds_test'], axis=1)\n",
    "scores_result_hit"
   ]
  },
  {
   "cell_type": "markdown",
   "metadata": {},
   "source": [
    "Seeing the confusion matrix and the scores of all the models we can see that support vector machine is the classifier that got better performance.\\\n",
    "However it is important to refer that the support vector machine was also the model that it took more time to find the optimal hyperparameters and to train.\\\n",
    "The model that has the best time to performance ratio is the KNN because of all the models is the one that takes less time to train and it has a low time to predict and at the same time it has a performance comparable with the SVM."
   ]
  },
  {
   "cell_type": "markdown",
   "metadata": {},
   "source": [
    "### Discrete valence target"
   ]
  },
  {
   "cell_type": "code",
   "execution_count": null,
   "metadata": {},
   "outputs": [],
   "source": [
    "scores_dt_valence_e = get_scores(clf_dt_valence_e, X_train_valence, X_test_valence, y_train_valence, y_test_valence)\n",
    "scores_svm_valence = get_scores(grid_svm_valence, X_train_valence, X_test_valence, y_train_valence, y_test_valence)\n",
    "scores_knn_valence = get_scores(grid_knn_valence, X_train_valence, X_test_valence, y_train_valence, y_test_valence)\n",
    "scores_gnb_valence = get_scores(gnb_valence, X_train_valence, X_test_valence, y_train_valence, y_test_valence)"
   ]
  },
  {
   "cell_type": "code",
   "execution_count": null,
   "metadata": {},
   "outputs": [
    {
     "data": {
      "image/png": "[encoded data removed]",
      "text/plain": [
       "<Figure size 720x504 with 4 Axes>"
      ]
     },
     "metadata": {},
     "output_type": "display_data"
    }
   ],
   "source": [
    "fig, axs = plt.subplots(2, 2)\n",
    "fig.set_figheight(7)\n",
    "fig.set_figwidth(10)\n",
    "fig.suptitle('Models confusion matrix discrete valence')\n",
    "axs[0, 0].set_title(\"Decision Tree\")\n",
    "get_cm(y_test_valence, scores_dt_valence_e['preds_test'], clf_dt_valence_e.classes_, axs[0, 0])\n",
    "axs[0, 1].set_title(\"Support Vector Machine\")\n",
    "get_cm(y_test_valence, scores_svm_valence['preds_test'], grid_svm_valence.classes_, axs[0, 1])\n",
    "axs[1, 0].set_title(\"K-Nearest Neighbors\")\n",
    "get_cm(y_test_valence, scores_knn_valence['preds_test'], grid_knn_valence.classes_, axs[1, 0])\n",
    "axs[1, 1].set_title(\"Naive Bayes\")\n",
    "get_cm(y_test_valence, scores_gnb_valence['preds_test'], gnb_valence.classes_, axs[1, 1])"
   ]
  },
  {
   "cell_type": "code",
   "execution_count": null,
   "metadata": {},
   "outputs": [
    {
     "data": {
      "text/html": [
       "<div>\n",
       "<style scoped>\n",
       "    .dataframe tbody tr th:only-of-type {\n",
       "        vertical-align: middle;\n",
       "    }\n",
       "\n",
       "    .dataframe tbody tr th {\n",
       "        vertical-align: top;\n",
       "    }\n",
       "\n",
       "    .dataframe thead th {\n",
       "        text-align: right;\n",
       "    }\n",
       "</style>\n",
       "<table border=\"1\" class=\"dataframe\">\n",
       "  <thead>\n",
       "    <tr style=\"text-align: right;\">\n",
       "      <th></th>\n",
       "      <th>cross_score</th>\n",
       "      <th>acc_train</th>\n",
       "      <th>acc_test</th>\n",
       "      <th>f1</th>\n",
       "      <th>recall</th>\n",
       "    </tr>\n",
       "    <tr>\n",
       "      <th>classifier</th>\n",
       "      <th></th>\n",
       "      <th></th>\n",
       "      <th></th>\n",
       "      <th></th>\n",
       "      <th></th>\n",
       "    </tr>\n",
       "  </thead>\n",
       "  <tbody>\n",
       "    <tr>\n",
       "      <th>Decision Tree</th>\n",
       "      <td>0.548444</td>\n",
       "      <td>1.000000</td>\n",
       "      <td>0.549050</td>\n",
       "      <td>0.549050</td>\n",
       "      <td>0.549050</td>\n",
       "    </tr>\n",
       "    <tr>\n",
       "      <th>Support Vector Machine</th>\n",
       "      <td>0.654407</td>\n",
       "      <td>0.701667</td>\n",
       "      <td>0.653705</td>\n",
       "      <td>0.653705</td>\n",
       "      <td>0.653705</td>\n",
       "    </tr>\n",
       "    <tr>\n",
       "      <th>K-Nearest Neighbors</th>\n",
       "      <td>0.570741</td>\n",
       "      <td>1.000000</td>\n",
       "      <td>0.576825</td>\n",
       "      <td>0.576825</td>\n",
       "      <td>0.576825</td>\n",
       "    </tr>\n",
       "    <tr>\n",
       "      <th>Naive Bayes</th>\n",
       "      <td>0.541926</td>\n",
       "      <td>0.544333</td>\n",
       "      <td>0.538274</td>\n",
       "      <td>0.538274</td>\n",
       "      <td>0.538274</td>\n",
       "    </tr>\n",
       "  </tbody>\n",
       "</table>\n",
       "</div>"
      ],
      "text/plain": [
       "                        cross_score  acc_train  acc_test        f1    recall\n",
       "classifier                                                                  \n",
       "Decision Tree              0.548444   1.000000  0.549050  0.549050  0.549050\n",
       "Support Vector Machine     0.654407   0.701667  0.653705  0.653705  0.653705\n",
       "K-Nearest Neighbors        0.570741   1.000000  0.576825  0.576825  0.576825\n",
       "Naive Bayes                0.541926   0.544333  0.538274  0.538274  0.538274"
      ]
     },
     "metadata": {},
     "output_type": "display_data"
    }
   ],
   "source": [
    "scores_dt_valence_e['classifier'] = \"Decision Tree\"\n",
    "scores_svm_valence['classifier'] = \"Support Vector Machine\"\n",
    "scores_knn_valence['classifier'] = \"K-Nearest Neighbors\"\n",
    "scores_gnb_valence['classifier'] = \"Naive Bayes\"\n",
    "scores_result_valence = pd.DataFrame([scores_dt_valence_e, scores_svm_valence, scores_knn_valence, scores_gnb_valence])\n",
    "scores_result_valence = scores_result_valence.set_index('classifier')\n",
    "scores_result_valence = scores_result_valence.drop(['preds_train','preds_test'], axis=1)\n",
    "scores_result_valence"
   ]
  },
  {
   "cell_type": "markdown",
   "metadata": {},
   "source": [
    "For discrete valence as the target we can the see the same conclusion. SVM is the model that performed the best however KNN is much faster and the performance is not much worst"
   ]
  },
  {
   "cell_type": "markdown",
   "metadata": {},
   "source": [
    "## Task 2 (Unsupervised Learning) - Characterizing Tracks"
   ]
  },
  {
   "cell_type": "markdown",
   "metadata": {},
   "source": [
    "In this task you should **use unsupervised learning algorithms and try to characterize the tracks**. You can use:\n",
    "* **Association rule mining** to find **associations between the features and the target hit/discrete valence**.\n",
    "* **Clustering algorithms to find similar groups of tracks**. Is it possible to find groups of tracks which are composed of hit songs with similar valences? Are tracks possibly grouped by decade?\n",
    "* **Be creative and define your own unsupervised analysis!** What would it be interesting to find out?"
   ]
  },
  {
   "cell_type": "markdown",
   "metadata": {},
   "source": [
    "## 2.1. Introduction"
   ]
  },
  {
   "cell_type": "markdown",
   "metadata": {},
   "source": [
    "This task focus is unsupervised learning. That means that we want to find patterns in the dataset which cointains data points that are neither classified nor labeled.\n",
    "\n",
    "With this purpose we will use association rule mining and clustering alghorithms.\n",
    "\n",
    "We want to awnser the following questions:\n",
    "- Is it possible to make associations between the features and the hit value? So that we find x in x => hit\n",
    "- Is it possible to make associations between the features and the valence value? So that we find x in x => valence\n",
    "- Is it possible to cluster the data points into groups of tracks that are hit songs that have similar valances?\n",
    "- Is it possible to find clusters of songs grouped by decade?"
   ]
  },
  {
   "cell_type": "markdown",
   "metadata": {},
   "source": [
    "## 2.2. Preprocessing Data for Association"
   ]
  },
  {
   "cell_type": "markdown",
   "metadata": {},
   "source": [
    "We first need to remove information features."
   ]
  },
  {
   "cell_type": "code",
   "execution_count": null,
   "metadata": {},
   "outputs": [],
   "source": [
    "rm_data = spotify_data.copy()\n",
    "rm_data.drop(['track','artist','uri'], inplace=True, axis=1)"
   ]
  },
  {
   "cell_type": "markdown",
   "metadata": {},
   "source": [
    "First we had to transform some non continuos features into categorical features"
   ]
  },
  {
   "cell_type": "code",
   "execution_count": null,
   "metadata": {},
   "outputs": [],
   "source": [
    "rm_data['key'] = pd.Categorical(rm_data.key)\n",
    "rm_data['mode'] = pd.Categorical(rm_data['mode'])\n",
    "rm_data['time_signature'] = pd.Categorical(rm_data.time_signature)\n",
    "rm_data['decade'] = pd.Categorical(rm_data.decade)\n",
    "rm_data['hit'] = pd.Categorical(rm_data.hit)"
   ]
  },
  {
   "cell_type": "markdown",
   "metadata": {},
   "source": [
    "After that we have to transform continuous features into discrete features because if we don't then there will be no relation to be made beacause all the songs will be different.\n",
    "\n",
    "Here we have to make our first decision which is choosing the number of bins. By one hand if we choose a **big bin number** then it is possible that we keep with the same problem that we started with which is no correlation between itemsets and therefore a **small number of associations** or even no associations and with that we would have a underfitted model. On the other hand if we choose a **small bin number** then we might have **too much associations** with small meaning and a overfitted model because it will be very specific.\n",
    "We opted out for a value in between the two extremes. \\\n",
    "For this purpose we will use the bin values of 5 and 9."
   ]
  },
  {
   "cell_type": "code",
   "execution_count": null,
   "metadata": {},
   "outputs": [],
   "source": [
    "def spotify_binning(data, n):\n",
    "    data = data.copy()\n",
    "    data['danceability'] = pd.cut(data.danceability, bins=n, right=False)\n",
    "    data['energy'] = pd.cut(data.energy, bins=n, right=False)\n",
    "    data['loudness'] = pd.cut(data.loudness, bins=n, right=False)\n",
    "    data['speechiness'] = pd.cut(data.speechiness, bins=n, right=False)\n",
    "    data['acousticness'] = pd.cut(data.acousticness, bins=n, right=False)\n",
    "    data['instrumentalness'] = pd.cut(data.instrumentalness, bins=n, right=False)\n",
    "    data['liveness'] = pd.cut(data.liveness, bins=n, right=True)\n",
    "    data['valence'] = pd.cut(data.valence, bins=[0, 0.33, 0.66, 1], labels=['Negative', 'Neutral', 'Positive'], include_lowest=True)\n",
    "    data['tempo'] = pd.cut(data.tempo, bins=n, right=True)\n",
    "    data['duration_ms'] = pd.cut(data.duration_ms, bins=n, right=True)\n",
    "    data['chorus_hit'] = pd.cut(data.chorus_hit, bins=n, right=True)\n",
    "    data['sections'] = pd.cut(data.sections, bins=n, right=True)\n",
    "    return data"
   ]
  },
  {
   "cell_type": "code",
   "execution_count": null,
   "metadata": {},
   "outputs": [],
   "source": [
    "rm_data_bin5 = spotify_binning(rm_data, 5)\n",
    "rm_data_bin9 = spotify_binning(rm_data, 9)"
   ]
  },
  {
   "cell_type": "markdown",
   "metadata": {},
   "source": [
    "The last step of preprocessing is to get the data as binary values. For that we used the get_dummies function which creates a new column for every different value."
   ]
  },
  {
   "cell_type": "code",
   "execution_count": null,
   "metadata": {},
   "outputs": [],
   "source": [
    "rm_binary_data_bin5 = pd.get_dummies(rm_data_bin5, dtype=bool)\n",
    "rm_binary_data_bin9 = pd.get_dummies(rm_data_bin9, dtype=bool)"
   ]
  },
  {
   "cell_type": "code",
   "execution_count": null,
   "metadata": {},
   "outputs": [
    {
     "name": "stdout",
     "output_type": "stream",
     "text": [
      "Number of columns with bin = 5 -> 83\n",
      "Number of columns with bin = 9 -> 127\n"
     ]
    }
   ],
   "source": [
    "print(\"Number of columns with bin = 5 ->\", rm_binary_data_bin5.columns.size)\n",
    "print(\"Number of columns with bin = 9 ->\", rm_binary_data_bin9.columns.size)"
   ]
  },
  {
   "cell_type": "markdown",
   "metadata": {},
   "source": [
    "As a result we got 85 columns for bin = 5. The best way to see the final result is to print the columns names. Here are some of them for you to get an ideia:"
   ]
  },
  {
   "cell_type": "code",
   "execution_count": null,
   "metadata": {},
   "outputs": [
    {
     "name": "stdout",
     "output_type": "stream",
     "text": [
      "danceability_[0.0593, 0.245) danceability_[0.245, 0.431) danceability_[0.431, 0.617) ...  \n",
      "energy_[0.000276, 0.2) energy_[0.2, 0.4) energy_[0.4, 0.6) ...  \n",
      "key_0 key_1 key_2 ...         \n",
      "loudness_[-26.165, -20.962) loudness_[-20.962, -15.759) loudness_[-15.759, -10.555) ...  \n",
      "mode_0 mode_1\n",
      "speechiness_[0.022, 0.0838) speechiness_[0.0838, 0.146) speechiness_[0.146, 0.207) ...  \n",
      "acousticness_[0.0, 0.199) acousticness_[0.199, 0.398) acousticness_[0.398, 0.598) ...  \n",
      "instrumentalness_[0.0, 0.199) instrumentalness_[0.199, 0.399) instrumentalness_[0.399, 0.598) ...  \n",
      "liveness_(0.0123, 0.154] liveness_(0.154, 0.296] liveness_(0.296, 0.437] ...  \n",
      "valence_Negative valence_Neutral valence_Positive\n",
      "tempo_(34.324, 68.907] tempo_(68.907, 103.317] tempo_(103.317, 137.728] ...  \n",
      "duration_ms_(14591.595, 130449.0] duration_ms_(130449.0, 245730.0] duration_ms_(245730.0, 361011.0] ...  \n",
      "time_signature_3 time_signature_4 time_signature_5\n",
      "chorus_hit_(-0.0971, 19.429] chorus_hit_(19.429, 38.859] chorus_hit_(38.859, 58.288] ...  \n",
      "sections_(-0.025, 5.0] sections_(5.0, 10.0] sections_(10.0, 15.0] ...  \n",
      "decade_00s decade_10s decade_60s ...   \n",
      "hit_0 hit_1"
     ]
    }
   ],
   "source": [
    "before = ''\n",
    "count = 0\n",
    "for column in rm_binary_data_bin5.columns:\n",
    "    if(before == column[0]):\n",
    "        print(end = \" \")\n",
    "        count += 1\n",
    "    elif(before != ''):\n",
    "        print()\n",
    "        count = 0\n",
    "    if(count == 3):\n",
    "        print(\"...\", end=\" \")\n",
    "    elif(count > 3):\n",
    "        pass\n",
    "    else:\n",
    "        print(column, end=\"\")\n",
    "    before = column[0]"
   ]
  },
  {
   "cell_type": "markdown",
   "metadata": {},
   "source": [
    "## 2.3. Finding Associations"
   ]
  },
  {
   "cell_type": "markdown",
   "metadata": {},
   "source": [
    "### 2.3.1. Compute Frequent Itemsets using Apriori"
   ]
  },
  {
   "cell_type": "markdown",
   "metadata": {},
   "source": [
    "The objetive of finding frequent itemsets is to restrict the search for association rules to rules that are frequent. \\\n",
    "Even if an association has a high confidence that does not mean that is strongly supported by data. It can happen that only one itemset supports such association."
   ]
  },
  {
   "cell_type": "code",
   "execution_count": null,
   "metadata": {},
   "outputs": [],
   "source": [
    "from mlxtend.frequent_patterns import apriori"
   ]
  },
  {
   "cell_type": "markdown",
   "metadata": {},
   "source": [
    "As the dataset is very big we will have to set the support to a low value"
   ]
  },
  {
   "cell_type": "code",
   "execution_count": null,
   "metadata": {},
   "outputs": [
    {
     "data": {
      "text/plain": [
       "2870"
      ]
     },
     "metadata": {},
     "output_type": "display_data"
    },
    {
     "data": {
      "text/plain": [
       "1826"
      ]
     },
     "metadata": {},
     "output_type": "display_data"
    }
   ],
   "source": [
    "frequent_itemsets5 = apriori(rm_binary_data_bin5, min_support=0.14, use_colnames=True)\n",
    "frequent_itemsets9 = apriori(rm_binary_data_bin9, min_support=0.1, use_colnames=True)\n",
    "pd.set_option('display.max_rows', 10)\n",
    "frequent_itemsets5.size\n",
    "frequent_itemsets9.size"
   ]
  },
  {
   "cell_type": "markdown",
   "metadata": {},
   "source": [
    "We can start to see the phenomenon that was refered before. Lower bin value means more correlation and therefore higher support overall. Even though we lowered the mininum support for the data with bin = 9 it got less frequent itemsets."
   ]
  },
  {
   "cell_type": "markdown",
   "metadata": {},
   "source": [
    "### 2.3.2. Generate Association Rules from Frequent Itemsets"
   ]
  },
  {
   "cell_type": "code",
   "execution_count": null,
   "metadata": {},
   "outputs": [],
   "source": [
    "from mlxtend.frequent_patterns import association_rules"
   ]
  },
  {
   "cell_type": "code",
   "execution_count": null,
   "metadata": {},
   "outputs": [],
   "source": [
    "hit_1 = frozenset(['hit_1'])\n",
    "hit_0 = frozenset(['hit_0'])\n",
    "valence_Negative = frozenset(['valence_Negative'])\n",
    "valence_Neutral = frozenset(['valence_Neutral'])\n",
    "valence_Positive = frozenset(['valence_Positive'])"
   ]
  },
  {
   "cell_type": "markdown",
   "metadata": {},
   "source": [
    "Now lets find the association rules from the frequent itemsets filtering by confidence and then by lift.\\\n",
    "We will choose low min_threshold values given the size of the dataset. We trying computing even lower values but it the result was the same."
   ]
  },
  {
   "cell_type": "markdown",
   "metadata": {},
   "source": [
    "We will also filter by lift values with the objetive of having as little of rules as possible but very certain."
   ]
  },
  {
   "cell_type": "code",
   "execution_count": null,
   "metadata": {},
   "outputs": [
    {
     "data": {
      "text/html": [
       "<div>\n",
       "<style scoped>\n",
       "    .dataframe tbody tr th:only-of-type {\n",
       "        vertical-align: middle;\n",
       "    }\n",
       "\n",
       "    .dataframe tbody tr th {\n",
       "        vertical-align: top;\n",
       "    }\n",
       "\n",
       "    .dataframe thead th {\n",
       "        text-align: right;\n",
       "    }\n",
       "</style>\n",
       "<table border=\"1\" class=\"dataframe\">\n",
       "  <thead>\n",
       "    <tr style=\"text-align: right;\">\n",
       "      <th></th>\n",
       "      <th>antecedents</th>\n",
       "      <th>consequents</th>\n",
       "      <th>antecedent support</th>\n",
       "      <th>consequent support</th>\n",
       "      <th>support</th>\n",
       "      <th>confidence</th>\n",
       "      <th>lift</th>\n",
       "      <th>leverage</th>\n",
       "      <th>conviction</th>\n",
       "    </tr>\n",
       "  </thead>\n",
       "  <tbody>\n",
       "    <tr>\n",
       "      <th>970</th>\n",
       "      <td>(instrumentalness_[0.0, 0.199), time_signature_4, energy_[0.6, 0.799))</td>\n",
       "      <td>(hit_1)</td>\n",
       "      <td>0.231827</td>\n",
       "      <td>0.523347</td>\n",
       "      <td>0.170329</td>\n",
       "      <td>0.734723</td>\n",
       "      <td>1.403894</td>\n",
       "      <td>0.049003</td>\n",
       "      <td>1.796815</td>\n",
       "    </tr>\n",
       "    <tr>\n",
       "      <th>2068</th>\n",
       "      <td>(danceability_[0.617, 0.802), speechiness_[0.022, 0.0838), instrumentalness_[0.0, 0.199), time_signature_4)</td>\n",
       "      <td>(hit_1)</td>\n",
       "      <td>0.214438</td>\n",
       "      <td>0.523347</td>\n",
       "      <td>0.158523</td>\n",
       "      <td>0.739249</td>\n",
       "      <td>1.412541</td>\n",
       "      <td>0.046298</td>\n",
       "      <td>1.828000</td>\n",
       "    </tr>\n",
       "  </tbody>\n",
       "</table>\n",
       "</div>"
      ],
      "text/plain": [
       "                                                                                                      antecedents  \\\n",
       "970                                        (instrumentalness_[0.0, 0.199), time_signature_4, energy_[0.6, 0.799))   \n",
       "2068  (danceability_[0.617, 0.802), speechiness_[0.022, 0.0838), instrumentalness_[0.0, 0.199), time_signature_4)   \n",
       "\n",
       "     consequents  antecedent support  consequent support   support  \\\n",
       "970      (hit_1)            0.231827            0.523347  0.170329   \n",
       "2068     (hit_1)            0.214438            0.523347  0.158523   \n",
       "\n",
       "      confidence      lift  leverage  conviction  \n",
       "970     0.734723  1.403894  0.049003    1.796815  \n",
       "2068    0.739249  1.412541  0.046298    1.828000  "
      ]
     },
     "metadata": {},
     "output_type": "display_data"
    },
    {
     "data": {
      "text/html": [
       "<div>\n",
       "<style scoped>\n",
       "    .dataframe tbody tr th:only-of-type {\n",
       "        vertical-align: middle;\n",
       "    }\n",
       "\n",
       "    .dataframe tbody tr th {\n",
       "        vertical-align: top;\n",
       "    }\n",
       "\n",
       "    .dataframe thead th {\n",
       "        text-align: right;\n",
       "    }\n",
       "</style>\n",
       "<table border=\"1\" class=\"dataframe\">\n",
       "  <thead>\n",
       "    <tr style=\"text-align: right;\">\n",
       "      <th></th>\n",
       "      <th>antecedents</th>\n",
       "      <th>consequents</th>\n",
       "      <th>antecedent support</th>\n",
       "      <th>consequent support</th>\n",
       "      <th>support</th>\n",
       "      <th>confidence</th>\n",
       "      <th>lift</th>\n",
       "      <th>leverage</th>\n",
       "      <th>conviction</th>\n",
       "    </tr>\n",
       "  </thead>\n",
       "  <tbody>\n",
       "  </tbody>\n",
       "</table>\n",
       "</div>"
      ],
      "text/plain": [
       "Empty DataFrame\n",
       "Columns: [antecedents, consequents, antecedent support, consequent support, support, confidence, lift, leverage, conviction]\n",
       "Index: []"
      ]
     },
     "metadata": {},
     "output_type": "display_data"
    },
    {
     "data": {
      "text/html": [
       "<div>\n",
       "<style scoped>\n",
       "    .dataframe tbody tr th:only-of-type {\n",
       "        vertical-align: middle;\n",
       "    }\n",
       "\n",
       "    .dataframe tbody tr th {\n",
       "        vertical-align: top;\n",
       "    }\n",
       "\n",
       "    .dataframe thead th {\n",
       "        text-align: right;\n",
       "    }\n",
       "</style>\n",
       "<table border=\"1\" class=\"dataframe\">\n",
       "  <thead>\n",
       "    <tr style=\"text-align: right;\">\n",
       "      <th></th>\n",
       "      <th>antecedents</th>\n",
       "      <th>consequents</th>\n",
       "      <th>antecedent support</th>\n",
       "      <th>consequent support</th>\n",
       "      <th>support</th>\n",
       "      <th>confidence</th>\n",
       "      <th>lift</th>\n",
       "      <th>leverage</th>\n",
       "      <th>conviction</th>\n",
       "    </tr>\n",
       "  </thead>\n",
       "  <tbody>\n",
       "  </tbody>\n",
       "</table>\n",
       "</div>"
      ],
      "text/plain": [
       "Empty DataFrame\n",
       "Columns: [antecedents, consequents, antecedent support, consequent support, support, confidence, lift, leverage, conviction]\n",
       "Index: []"
      ]
     },
     "metadata": {},
     "output_type": "display_data"
    },
    {
     "data": {
      "text/html": [
       "<div>\n",
       "<style scoped>\n",
       "    .dataframe tbody tr th:only-of-type {\n",
       "        vertical-align: middle;\n",
       "    }\n",
       "\n",
       "    .dataframe tbody tr th {\n",
       "        vertical-align: top;\n",
       "    }\n",
       "\n",
       "    .dataframe thead th {\n",
       "        text-align: right;\n",
       "    }\n",
       "</style>\n",
       "<table border=\"1\" class=\"dataframe\">\n",
       "  <thead>\n",
       "    <tr style=\"text-align: right;\">\n",
       "      <th></th>\n",
       "      <th>antecedents</th>\n",
       "      <th>consequents</th>\n",
       "      <th>antecedent support</th>\n",
       "      <th>consequent support</th>\n",
       "      <th>support</th>\n",
       "      <th>confidence</th>\n",
       "      <th>lift</th>\n",
       "      <th>leverage</th>\n",
       "      <th>conviction</th>\n",
       "    </tr>\n",
       "  </thead>\n",
       "  <tbody>\n",
       "  </tbody>\n",
       "</table>\n",
       "</div>"
      ],
      "text/plain": [
       "Empty DataFrame\n",
       "Columns: [antecedents, consequents, antecedent support, consequent support, support, confidence, lift, leverage, conviction]\n",
       "Index: []"
      ]
     },
     "metadata": {},
     "output_type": "display_data"
    },
    {
     "data": {
      "text/html": [
       "<div>\n",
       "<style scoped>\n",
       "    .dataframe tbody tr th:only-of-type {\n",
       "        vertical-align: middle;\n",
       "    }\n",
       "\n",
       "    .dataframe tbody tr th {\n",
       "        vertical-align: top;\n",
       "    }\n",
       "\n",
       "    .dataframe thead th {\n",
       "        text-align: right;\n",
       "    }\n",
       "</style>\n",
       "<table border=\"1\" class=\"dataframe\">\n",
       "  <thead>\n",
       "    <tr style=\"text-align: right;\">\n",
       "      <th></th>\n",
       "      <th>antecedents</th>\n",
       "      <th>consequents</th>\n",
       "      <th>antecedent support</th>\n",
       "      <th>consequent support</th>\n",
       "      <th>support</th>\n",
       "      <th>confidence</th>\n",
       "      <th>lift</th>\n",
       "      <th>leverage</th>\n",
       "      <th>conviction</th>\n",
       "    </tr>\n",
       "  </thead>\n",
       "  <tbody>\n",
       "    <tr>\n",
       "      <th>237</th>\n",
       "      <td>(danceability_[0.617, 0.802), speechiness_[0.022, 0.0838))</td>\n",
       "      <td>(valence_Positive)</td>\n",
       "      <td>0.254354</td>\n",
       "      <td>0.394017</td>\n",
       "      <td>0.157718</td>\n",
       "      <td>0.620072</td>\n",
       "      <td>1.573720</td>\n",
       "      <td>0.057498</td>\n",
       "      <td>1.594995</td>\n",
       "    </tr>\n",
       "    <tr>\n",
       "      <th>1239</th>\n",
       "      <td>(danceability_[0.617, 0.802), speechiness_[0.022, 0.0838), instrumentalness_[0.0, 0.199))</td>\n",
       "      <td>(valence_Positive)</td>\n",
       "      <td>0.220938</td>\n",
       "      <td>0.394017</td>\n",
       "      <td>0.140052</td>\n",
       "      <td>0.633895</td>\n",
       "      <td>1.608802</td>\n",
       "      <td>0.052998</td>\n",
       "      <td>1.655216</td>\n",
       "    </tr>\n",
       "    <tr>\n",
       "      <th>1264</th>\n",
       "      <td>(danceability_[0.617, 0.802), speechiness_[0.022, 0.0838), time_signature_4)</td>\n",
       "      <td>(valence_Positive)</td>\n",
       "      <td>0.246382</td>\n",
       "      <td>0.394017</td>\n",
       "      <td>0.154357</td>\n",
       "      <td>0.626494</td>\n",
       "      <td>1.590018</td>\n",
       "      <td>0.057278</td>\n",
       "      <td>1.622418</td>\n",
       "    </tr>\n",
       "  </tbody>\n",
       "</table>\n",
       "</div>"
      ],
      "text/plain": [
       "                                                                                    antecedents  \\\n",
       "237                                  (danceability_[0.617, 0.802), speechiness_[0.022, 0.0838))   \n",
       "1239  (danceability_[0.617, 0.802), speechiness_[0.022, 0.0838), instrumentalness_[0.0, 0.199))   \n",
       "1264               (danceability_[0.617, 0.802), speechiness_[0.022, 0.0838), time_signature_4)   \n",
       "\n",
       "             consequents  antecedent support  consequent support   support  \\\n",
       "237   (valence_Positive)            0.254354            0.394017  0.157718   \n",
       "1239  (valence_Positive)            0.220938            0.394017  0.140052   \n",
       "1264  (valence_Positive)            0.246382            0.394017  0.154357   \n",
       "\n",
       "      confidence      lift  leverage  conviction  \n",
       "237     0.620072  1.573720  0.057498    1.594995  \n",
       "1239    0.633895  1.608802  0.052998    1.655216  \n",
       "1264    0.626494  1.590018  0.057278    1.622418  "
      ]
     },
     "metadata": {},
     "output_type": "display_data"
    }
   ],
   "source": [
    "### Compute association rules with 80% confidence\n",
    "rules = association_rules(frequent_itemsets5, metric=\"confidence\", min_threshold=0.7)\n",
    "rules = rules[rules['lift'] >= 1.4]\n",
    "\n",
    "#rules[\"has_hit\"] = rules[\"antecedents\"].apply(lambda x: hit.issubset())\n",
    "rules_hit1_5 = rules[rules['consequents'] == hit_1]\n",
    "rules_hit0_5 = rules[rules['consequents'] == hit_0]\n",
    "\n",
    "rules = association_rules(frequent_itemsets5, metric=\"confidence\", min_threshold=0.6)\n",
    "rules = rules[rules['lift'] >= 1.57]\n",
    "\n",
    "rules_valNeg_5 = rules[rules['consequents'] == valence_Negative]\n",
    "rules_valNeu_5 = rules[rules['consequents'] == valence_Neutral]\n",
    "rules_valPos_5 = rules[rules['consequents'] == valence_Positive]\n",
    "\n",
    "rules_hit1_5\n",
    "rules_hit0_5\n",
    "rules_valNeg_5\n",
    "rules_valNeu_5\n",
    "rules_valPos_5"
   ]
  },
  {
   "cell_type": "code",
   "execution_count": null,
   "metadata": {
    "scrolled": true
   },
   "outputs": [
    {
     "data": {
      "text/html": [
       "<div>\n",
       "<style scoped>\n",
       "    .dataframe tbody tr th:only-of-type {\n",
       "        vertical-align: middle;\n",
       "    }\n",
       "\n",
       "    .dataframe tbody tr th {\n",
       "        vertical-align: top;\n",
       "    }\n",
       "\n",
       "    .dataframe thead th {\n",
       "        text-align: right;\n",
       "    }\n",
       "</style>\n",
       "<table border=\"1\" class=\"dataframe\">\n",
       "  <thead>\n",
       "    <tr style=\"text-align: right;\">\n",
       "      <th></th>\n",
       "      <th>antecedents</th>\n",
       "      <th>consequents</th>\n",
       "      <th>antecedent support</th>\n",
       "      <th>consequent support</th>\n",
       "      <th>support</th>\n",
       "      <th>confidence</th>\n",
       "      <th>lift</th>\n",
       "      <th>leverage</th>\n",
       "      <th>conviction</th>\n",
       "    </tr>\n",
       "  </thead>\n",
       "  <tbody>\n",
       "    <tr>\n",
       "      <th>168</th>\n",
       "      <td>(instrumentalness_[0.0, 0.111), danceability_[0.678, 0.782))</td>\n",
       "      <td>(hit_1)</td>\n",
       "      <td>0.134968</td>\n",
       "      <td>0.523347</td>\n",
       "      <td>0.101331</td>\n",
       "      <td>0.750772</td>\n",
       "      <td>1.434559</td>\n",
       "      <td>0.030695</td>\n",
       "      <td>1.912518</td>\n",
       "    </tr>\n",
       "    <tr>\n",
       "      <th>1201</th>\n",
       "      <td>(instrumentalness_[0.0, 0.111), mode_1, duration_ms_(207303.0, 271348.0], speechiness_[0.022, 0.0563))</td>\n",
       "      <td>(hit_1)</td>\n",
       "      <td>0.143385</td>\n",
       "      <td>0.523347</td>\n",
       "      <td>0.107358</td>\n",
       "      <td>0.748741</td>\n",
       "      <td>1.430679</td>\n",
       "      <td>0.032318</td>\n",
       "      <td>1.897059</td>\n",
       "    </tr>\n",
       "    <tr>\n",
       "      <th>1360</th>\n",
       "      <td>(mode_1, speechiness_[0.022, 0.0563), time_signature_4, instrumentalness_[0.0, 0.111), duration_ms_(207303.0, 271348.0])</td>\n",
       "      <td>(hit_1)</td>\n",
       "      <td>0.133469</td>\n",
       "      <td>0.523347</td>\n",
       "      <td>0.101636</td>\n",
       "      <td>0.761498</td>\n",
       "      <td>1.455056</td>\n",
       "      <td>0.031786</td>\n",
       "      <td>1.998534</td>\n",
       "    </tr>\n",
       "  </tbody>\n",
       "</table>\n",
       "</div>"
      ],
      "text/plain": [
       "                                                                                                                   antecedents  \\\n",
       "168                                                               (instrumentalness_[0.0, 0.111), danceability_[0.678, 0.782))   \n",
       "1201                    (instrumentalness_[0.0, 0.111), mode_1, duration_ms_(207303.0, 271348.0], speechiness_[0.022, 0.0563))   \n",
       "1360  (mode_1, speechiness_[0.022, 0.0563), time_signature_4, instrumentalness_[0.0, 0.111), duration_ms_(207303.0, 271348.0])   \n",
       "\n",
       "     consequents  antecedent support  consequent support   support  \\\n",
       "168      (hit_1)            0.134968            0.523347  0.101331   \n",
       "1201     (hit_1)            0.143385            0.523347  0.107358   \n",
       "1360     (hit_1)            0.133469            0.523347  0.101636   \n",
       "\n",
       "      confidence      lift  leverage  conviction  \n",
       "168     0.750772  1.434559  0.030695    1.912518  \n",
       "1201    0.748741  1.430679  0.032318    1.897059  \n",
       "1360    0.761498  1.455056  0.031786    1.998534  "
      ]
     },
     "metadata": {},
     "output_type": "display_data"
    },
    {
     "data": {
      "text/html": [
       "<div>\n",
       "<style scoped>\n",
       "    .dataframe tbody tr th:only-of-type {\n",
       "        vertical-align: middle;\n",
       "    }\n",
       "\n",
       "    .dataframe tbody tr th {\n",
       "        vertical-align: top;\n",
       "    }\n",
       "\n",
       "    .dataframe thead th {\n",
       "        text-align: right;\n",
       "    }\n",
       "</style>\n",
       "<table border=\"1\" class=\"dataframe\">\n",
       "  <thead>\n",
       "    <tr style=\"text-align: right;\">\n",
       "      <th></th>\n",
       "      <th>antecedents</th>\n",
       "      <th>consequents</th>\n",
       "      <th>antecedent support</th>\n",
       "      <th>consequent support</th>\n",
       "      <th>support</th>\n",
       "      <th>confidence</th>\n",
       "      <th>lift</th>\n",
       "      <th>leverage</th>\n",
       "      <th>conviction</th>\n",
       "    </tr>\n",
       "  </thead>\n",
       "  <tbody>\n",
       "  </tbody>\n",
       "</table>\n",
       "</div>"
      ],
      "text/plain": [
       "Empty DataFrame\n",
       "Columns: [antecedents, consequents, antecedent support, consequent support, support, confidence, lift, leverage, conviction]\n",
       "Index: []"
      ]
     },
     "metadata": {},
     "output_type": "display_data"
    },
    {
     "data": {
      "text/html": [
       "<div>\n",
       "<style scoped>\n",
       "    .dataframe tbody tr th:only-of-type {\n",
       "        vertical-align: middle;\n",
       "    }\n",
       "\n",
       "    .dataframe tbody tr th {\n",
       "        vertical-align: top;\n",
       "    }\n",
       "\n",
       "    .dataframe thead th {\n",
       "        text-align: right;\n",
       "    }\n",
       "</style>\n",
       "<table border=\"1\" class=\"dataframe\">\n",
       "  <thead>\n",
       "    <tr style=\"text-align: right;\">\n",
       "      <th></th>\n",
       "      <th>antecedents</th>\n",
       "      <th>consequents</th>\n",
       "      <th>antecedent support</th>\n",
       "      <th>consequent support</th>\n",
       "      <th>support</th>\n",
       "      <th>confidence</th>\n",
       "      <th>lift</th>\n",
       "      <th>leverage</th>\n",
       "      <th>conviction</th>\n",
       "    </tr>\n",
       "  </thead>\n",
       "  <tbody>\n",
       "  </tbody>\n",
       "</table>\n",
       "</div>"
      ],
      "text/plain": [
       "Empty DataFrame\n",
       "Columns: [antecedents, consequents, antecedent support, consequent support, support, confidence, lift, leverage, conviction]\n",
       "Index: []"
      ]
     },
     "metadata": {},
     "output_type": "display_data"
    },
    {
     "data": {
      "text/html": [
       "<div>\n",
       "<style scoped>\n",
       "    .dataframe tbody tr th:only-of-type {\n",
       "        vertical-align: middle;\n",
       "    }\n",
       "\n",
       "    .dataframe tbody tr th {\n",
       "        vertical-align: top;\n",
       "    }\n",
       "\n",
       "    .dataframe thead th {\n",
       "        text-align: right;\n",
       "    }\n",
       "</style>\n",
       "<table border=\"1\" class=\"dataframe\">\n",
       "  <thead>\n",
       "    <tr style=\"text-align: right;\">\n",
       "      <th></th>\n",
       "      <th>antecedents</th>\n",
       "      <th>consequents</th>\n",
       "      <th>antecedent support</th>\n",
       "      <th>consequent support</th>\n",
       "      <th>support</th>\n",
       "      <th>confidence</th>\n",
       "      <th>lift</th>\n",
       "      <th>leverage</th>\n",
       "      <th>conviction</th>\n",
       "    </tr>\n",
       "  </thead>\n",
       "  <tbody>\n",
       "  </tbody>\n",
       "</table>\n",
       "</div>"
      ],
      "text/plain": [
       "Empty DataFrame\n",
       "Columns: [antecedents, consequents, antecedent support, consequent support, support, confidence, lift, leverage, conviction]\n",
       "Index: []"
      ]
     },
     "metadata": {},
     "output_type": "display_data"
    },
    {
     "data": {
      "text/html": [
       "<div>\n",
       "<style scoped>\n",
       "    .dataframe tbody tr th:only-of-type {\n",
       "        vertical-align: middle;\n",
       "    }\n",
       "\n",
       "    .dataframe tbody tr th {\n",
       "        vertical-align: top;\n",
       "    }\n",
       "\n",
       "    .dataframe thead th {\n",
       "        text-align: right;\n",
       "    }\n",
       "</style>\n",
       "<table border=\"1\" class=\"dataframe\">\n",
       "  <thead>\n",
       "    <tr style=\"text-align: right;\">\n",
       "      <th></th>\n",
       "      <th>antecedents</th>\n",
       "      <th>consequents</th>\n",
       "      <th>antecedent support</th>\n",
       "      <th>consequent support</th>\n",
       "      <th>support</th>\n",
       "      <th>confidence</th>\n",
       "      <th>lift</th>\n",
       "      <th>leverage</th>\n",
       "      <th>conviction</th>\n",
       "    </tr>\n",
       "  </thead>\n",
       "  <tbody>\n",
       "    <tr>\n",
       "      <th>1968</th>\n",
       "      <td>(instrumentalness_[0.0, 0.111), tempo_(110.964, 130.081], time_signature_4)</td>\n",
       "      <td>(valence_Positive)</td>\n",
       "      <td>0.199911</td>\n",
       "      <td>0.394017</td>\n",
       "      <td>0.105303</td>\n",
       "      <td>0.526747</td>\n",
       "      <td>1.336865</td>\n",
       "      <td>0.026534</td>\n",
       "      <td>1.280464</td>\n",
       "    </tr>\n",
       "    <tr>\n",
       "      <th>1972</th>\n",
       "      <td>(instrumentalness_[0.0, 0.111), time_signature_4, duration_ms_(143258.0, 207303.0])</td>\n",
       "      <td>(valence_Positive)</td>\n",
       "      <td>0.246743</td>\n",
       "      <td>0.394017</td>\n",
       "      <td>0.129413</td>\n",
       "      <td>0.524485</td>\n",
       "      <td>1.331123</td>\n",
       "      <td>0.032192</td>\n",
       "      <td>1.274372</td>\n",
       "    </tr>\n",
       "    <tr>\n",
       "      <th>2406</th>\n",
       "      <td>(instrumentalness_[0.0, 0.111), mode_1, time_signature_4, duration_ms_(143258.0, 207303.0])</td>\n",
       "      <td>(valence_Positive)</td>\n",
       "      <td>0.186800</td>\n",
       "      <td>0.394017</td>\n",
       "      <td>0.100192</td>\n",
       "      <td>0.536357</td>\n",
       "      <td>1.361254</td>\n",
       "      <td>0.026589</td>\n",
       "      <td>1.307003</td>\n",
       "    </tr>\n",
       "  </tbody>\n",
       "</table>\n",
       "</div>"
      ],
      "text/plain": [
       "                                                                                      antecedents  \\\n",
       "1968                  (instrumentalness_[0.0, 0.111), tempo_(110.964, 130.081], time_signature_4)   \n",
       "1972          (instrumentalness_[0.0, 0.111), time_signature_4, duration_ms_(143258.0, 207303.0])   \n",
       "2406  (instrumentalness_[0.0, 0.111), mode_1, time_signature_4, duration_ms_(143258.0, 207303.0])   \n",
       "\n",
       "             consequents  antecedent support  consequent support   support  \\\n",
       "1968  (valence_Positive)            0.199911            0.394017  0.105303   \n",
       "1972  (valence_Positive)            0.246743            0.394017  0.129413   \n",
       "2406  (valence_Positive)            0.186800            0.394017  0.100192   \n",
       "\n",
       "      confidence      lift  leverage  conviction  \n",
       "1968    0.526747  1.336865  0.026534    1.280464  \n",
       "1972    0.524485  1.331123  0.032192    1.274372  \n",
       "2406    0.536357  1.361254  0.026589    1.307003  "
      ]
     },
     "metadata": {},
     "output_type": "display_data"
    }
   ],
   "source": [
    "rules = association_rules(frequent_itemsets9, metric=\"confidence\", min_threshold=0.7)\n",
    "rules = rules[rules['lift'] >= 1.43]\n",
    "\n",
    "#rules[\"has_hit\"] = rules[\"antecedents\"].apply(lambda x: hit.issubset())\n",
    "rules_hit1_9 = rules[rules['consequents'] == hit_1]\n",
    "rules_hit0_9 = rules[rules['consequents'] == hit_0]\n",
    "\n",
    "rules = association_rules(frequent_itemsets9, metric=\"confidence\", min_threshold=0.5)\n",
    "rules = rules[rules['lift'] >= 1.33]\n",
    "\n",
    "rules_valNeg_9 = rules[rules['consequents'] == valence_Negative]\n",
    "rules_valNeu_9 = rules[rules['consequents'] == valence_Neutral]\n",
    "rules_valPos_9 = rules[rules['consequents'] == valence_Positive]\n",
    "\n",
    "rules_hit1_9\n",
    "rules_hit0_9\n",
    "rules_valNeg_9\n",
    "rules_valNeu_9\n",
    "rules_valPos_9"
   ]
  },
  {
   "cell_type": "markdown",
   "metadata": {},
   "source": [
    "## 2.4. Association Rules - Results and Discussion "
   ]
  },
  {
   "cell_type": "code",
   "execution_count": null,
   "metadata": {},
   "outputs": [],
   "source": [
    "pd.set_option(\"max_colwidth\", None)"
   ]
  },
  {
   "cell_type": "markdown",
   "metadata": {},
   "source": [
    "### Hit"
   ]
  },
  {
   "cell_type": "markdown",
   "metadata": {},
   "source": [
    "First lets look at the rules with consequent = hit"
   ]
  },
  {
   "cell_type": "code",
   "execution_count": null,
   "metadata": {},
   "outputs": [
    {
     "data": {
      "text/html": [
       "<div>\n",
       "<style scoped>\n",
       "    .dataframe tbody tr th:only-of-type {\n",
       "        vertical-align: middle;\n",
       "    }\n",
       "\n",
       "    .dataframe tbody tr th {\n",
       "        vertical-align: top;\n",
       "    }\n",
       "\n",
       "    .dataframe thead th {\n",
       "        text-align: right;\n",
       "    }\n",
       "</style>\n",
       "<table border=\"1\" class=\"dataframe\">\n",
       "  <thead>\n",
       "    <tr style=\"text-align: right;\">\n",
       "      <th></th>\n",
       "      <th>antecedents</th>\n",
       "    </tr>\n",
       "  </thead>\n",
       "  <tbody>\n",
       "    <tr>\n",
       "      <th>970</th>\n",
       "      <td>(instrumentalness_[0.0, 0.199), time_signature_4, energy_[0.6, 0.799))</td>\n",
       "    </tr>\n",
       "    <tr>\n",
       "      <th>2068</th>\n",
       "      <td>(danceability_[0.617, 0.802), speechiness_[0.022, 0.0838), instrumentalness_[0.0, 0.199), time_signature_4)</td>\n",
       "    </tr>\n",
       "  </tbody>\n",
       "</table>\n",
       "</div>"
      ],
      "text/plain": [
       "                                                                                                      antecedents\n",
       "970                                        (instrumentalness_[0.0, 0.199), time_signature_4, energy_[0.6, 0.799))\n",
       "2068  (danceability_[0.617, 0.802), speechiness_[0.022, 0.0838), instrumentalness_[0.0, 0.199), time_signature_4)"
      ]
     },
     "metadata": {},
     "output_type": "display_data"
    }
   ],
   "source": [
    "pd.DataFrame(rules_hit1_5['antecedents'])"
   ]
  },
  {
   "cell_type": "markdown",
   "metadata": {},
   "source": [
    "The first thing that we concluded is that all rules have instrumentalness between 0 and 0.199 and time signature equal to 4.\\\n",
    "This means that this 2 values are very associated with the fact the a songs becomes a hit."
   ]
  },
  {
   "cell_type": "markdown",
   "metadata": {},
   "source": [
    "We can now look at the rules made by binnig 9 to try to get more precise values."
   ]
  },
  {
   "cell_type": "code",
   "execution_count": null,
   "metadata": {},
   "outputs": [
    {
     "data": {
      "text/html": [
       "<div>\n",
       "<style scoped>\n",
       "    .dataframe tbody tr th:only-of-type {\n",
       "        vertical-align: middle;\n",
       "    }\n",
       "\n",
       "    .dataframe tbody tr th {\n",
       "        vertical-align: top;\n",
       "    }\n",
       "\n",
       "    .dataframe thead th {\n",
       "        text-align: right;\n",
       "    }\n",
       "</style>\n",
       "<table border=\"1\" class=\"dataframe\">\n",
       "  <thead>\n",
       "    <tr style=\"text-align: right;\">\n",
       "      <th></th>\n",
       "      <th>antecedents</th>\n",
       "    </tr>\n",
       "  </thead>\n",
       "  <tbody>\n",
       "    <tr>\n",
       "      <th>168</th>\n",
       "      <td>(instrumentalness_[0.0, 0.111), danceability_[0.678, 0.782))</td>\n",
       "    </tr>\n",
       "    <tr>\n",
       "      <th>1201</th>\n",
       "      <td>(instrumentalness_[0.0, 0.111), mode_1, duration_ms_(207303.0, 271348.0], speechiness_[0.022, 0.0563))</td>\n",
       "    </tr>\n",
       "    <tr>\n",
       "      <th>1360</th>\n",
       "      <td>(mode_1, speechiness_[0.022, 0.0563), time_signature_4, instrumentalness_[0.0, 0.111), duration_ms_(207303.0, 271348.0])</td>\n",
       "    </tr>\n",
       "  </tbody>\n",
       "</table>\n",
       "</div>"
      ],
      "text/plain": [
       "                                                                                                                   antecedents\n",
       "168                                                               (instrumentalness_[0.0, 0.111), danceability_[0.678, 0.782))\n",
       "1201                    (instrumentalness_[0.0, 0.111), mode_1, duration_ms_(207303.0, 271348.0], speechiness_[0.022, 0.0563))\n",
       "1360  (mode_1, speechiness_[0.022, 0.0563), time_signature_4, instrumentalness_[0.0, 0.111), duration_ms_(207303.0, 271348.0])"
      ]
     },
     "metadata": {},
     "output_type": "display_data"
    }
   ],
   "source": [
    "pd.DataFrame(rules_hit1_9['antecedents'])"
   ]
  },
  {
   "cell_type": "markdown",
   "metadata": {},
   "source": [
    "We continue to see instrumentalness however now it is between 0 and 0.111 which is more specific.\\\n",
    "We are also seeing a lot of speechiness between 0.022 and 0.0563."
   ]
  },
  {
   "cell_type": "markdown",
   "metadata": {},
   "source": [
    "### Valence"
   ]
  },
  {
   "cell_type": "markdown",
   "metadata": {},
   "source": [
    "Lets do the same analysis for valence."
   ]
  },
  {
   "cell_type": "code",
   "execution_count": null,
   "metadata": {},
   "outputs": [
    {
     "data": {
      "text/html": [
       "<div>\n",
       "<style scoped>\n",
       "    .dataframe tbody tr th:only-of-type {\n",
       "        vertical-align: middle;\n",
       "    }\n",
       "\n",
       "    .dataframe tbody tr th {\n",
       "        vertical-align: top;\n",
       "    }\n",
       "\n",
       "    .dataframe thead th {\n",
       "        text-align: right;\n",
       "    }\n",
       "</style>\n",
       "<table border=\"1\" class=\"dataframe\">\n",
       "  <thead>\n",
       "    <tr style=\"text-align: right;\">\n",
       "      <th></th>\n",
       "      <th>antecedents</th>\n",
       "    </tr>\n",
       "  </thead>\n",
       "  <tbody>\n",
       "    <tr>\n",
       "      <th>237</th>\n",
       "      <td>(danceability_[0.617, 0.802), speechiness_[0.022, 0.0838))</td>\n",
       "    </tr>\n",
       "    <tr>\n",
       "      <th>1239</th>\n",
       "      <td>(danceability_[0.617, 0.802), speechiness_[0.022, 0.0838), instrumentalness_[0.0, 0.199))</td>\n",
       "    </tr>\n",
       "    <tr>\n",
       "      <th>1264</th>\n",
       "      <td>(danceability_[0.617, 0.802), speechiness_[0.022, 0.0838), time_signature_4)</td>\n",
       "    </tr>\n",
       "  </tbody>\n",
       "</table>\n",
       "</div>"
      ],
      "text/plain": [
       "                                                                                    antecedents\n",
       "237                                  (danceability_[0.617, 0.802), speechiness_[0.022, 0.0838))\n",
       "1239  (danceability_[0.617, 0.802), speechiness_[0.022, 0.0838), instrumentalness_[0.0, 0.199))\n",
       "1264               (danceability_[0.617, 0.802), speechiness_[0.022, 0.0838), time_signature_4)"
      ]
     },
     "metadata": {},
     "output_type": "display_data"
    }
   ],
   "source": [
    "pd.DataFrame(rules_valPos_5['antecedents'])"
   ]
  },
  {
   "cell_type": "markdown",
   "metadata": {},
   "source": [
    "Were we continue to see the same trend as we saw for hit. Instrumentalness between 0 and 0.199 and time signature equal to 4 appear however not in every rule.\\\n",
    "The values that are in every rule are danceability between 0.617 and 0.0802 and speechiness between 0.022 and 0.0838."
   ]
  },
  {
   "cell_type": "markdown",
   "metadata": {},
   "source": [
    "We can now look at the rules made by binnig 9 to try to get more precise values."
   ]
  },
  {
   "cell_type": "code",
   "execution_count": null,
   "metadata": {},
   "outputs": [
    {
     "data": {
      "text/html": [
       "<div>\n",
       "<style scoped>\n",
       "    .dataframe tbody tr th:only-of-type {\n",
       "        vertical-align: middle;\n",
       "    }\n",
       "\n",
       "    .dataframe tbody tr th {\n",
       "        vertical-align: top;\n",
       "    }\n",
       "\n",
       "    .dataframe thead th {\n",
       "        text-align: right;\n",
       "    }\n",
       "</style>\n",
       "<table border=\"1\" class=\"dataframe\">\n",
       "  <thead>\n",
       "    <tr style=\"text-align: right;\">\n",
       "      <th></th>\n",
       "      <th>antecedents</th>\n",
       "    </tr>\n",
       "  </thead>\n",
       "  <tbody>\n",
       "    <tr>\n",
       "      <th>1968</th>\n",
       "      <td>(instrumentalness_[0.0, 0.111), tempo_(110.964, 130.081], time_signature_4)</td>\n",
       "    </tr>\n",
       "    <tr>\n",
       "      <th>1972</th>\n",
       "      <td>(instrumentalness_[0.0, 0.111), time_signature_4, duration_ms_(143258.0, 207303.0])</td>\n",
       "    </tr>\n",
       "    <tr>\n",
       "      <th>2406</th>\n",
       "      <td>(instrumentalness_[0.0, 0.111), mode_1, time_signature_4, duration_ms_(143258.0, 207303.0])</td>\n",
       "    </tr>\n",
       "  </tbody>\n",
       "</table>\n",
       "</div>"
      ],
      "text/plain": [
       "                                                                                      antecedents\n",
       "1968                  (instrumentalness_[0.0, 0.111), tempo_(110.964, 130.081], time_signature_4)\n",
       "1972          (instrumentalness_[0.0, 0.111), time_signature_4, duration_ms_(143258.0, 207303.0])\n",
       "2406  (instrumentalness_[0.0, 0.111), mode_1, time_signature_4, duration_ms_(143258.0, 207303.0])"
      ]
     },
     "metadata": {},
     "output_type": "display_data"
    }
   ],
   "source": [
    "pd.DataFrame(rules_valPos_9['antecedents'])"
   ]
  },
  {
   "cell_type": "markdown",
   "metadata": {},
   "source": [
    "We continue to see instrumentalness and time signature equal to 4 and now in every rule. danceability and speechiness are gone."
   ]
  },
  {
   "cell_type": "markdown",
   "metadata": {},
   "source": [
    "### Conclusion"
   ]
  },
  {
   "cell_type": "markdown",
   "metadata": {},
   "source": [
    "Looking at the histograms on the beggining of this project we can see that almost all the ranges of values that we see in the rules are the ones that have a high number of songs. The only range that does not follow this is danceability between 0.617 and 0.802. This is because the dataset is unbalanced."
   ]
  },
  {
   "cell_type": "markdown",
   "metadata": {},
   "source": [
    "## 2.5. Preprocessing Data for Clustering"
   ]
  },
  {
   "cell_type": "markdown",
   "metadata": {},
   "source": [
    "We are just going to do the same preprocessing we did for the dataset for supervised learning with a few differences."
   ]
  },
  {
   "cell_type": "code",
   "execution_count": null,
   "metadata": {},
   "outputs": [],
   "source": [
    "clust_data = spotify_data.copy()\n",
    "clust_data.reset_index(drop=True, inplace=True)\n",
    "clust_data.drop(['track','artist','uri'], inplace=True, axis=1)\n",
    "clust_data = pd.get_dummies(clust_data, dtype=int, columns=['key'], prefix=['key'])"
   ]
  },
  {
   "cell_type": "markdown",
   "metadata": {},
   "source": [
    "The first different is that we need to remove the features we are trying to find relations of. Another key difference is that we can only apply get_dummies to the dataset we will use for the hit/valence model because we need the decade untouched so we can then correlate the clusters and the objetive"
   ]
  },
  {
   "cell_type": "code",
   "execution_count": null,
   "metadata": {},
   "outputs": [],
   "source": [
    "di_hit = {1: \"Hit\", 0: \"Not_hit\"}\n",
    "clust_h_y = clust_data['hit'].map(di_hit)\n",
    "clust_v_y = pd.cut(clust_data.valence, bins=[0, 0.33, 0.66, 1], labels=['Negative', 'Neutral', 'Positive'], include_lowest=True)\n",
    "clust_hv_x = clust_data.drop(columns=['hit', 'valence'])\n",
    "clust_hv_x = pd.get_dummies(clust_data, dtype=int, columns=['decade'], prefix=['decade'])\n",
    "\n",
    "clust_d_y = clust_data['decade']\n",
    "clust_d_x = clust_data.drop(columns=['decade'])"
   ]
  },
  {
   "cell_type": "markdown",
   "metadata": {},
   "source": [
    "Finally we have to use StandardScaler as we are training a distanced based model and we don't want some features to rule the others"
   ]
  },
  {
   "cell_type": "code",
   "execution_count": null,
   "metadata": {},
   "outputs": [],
   "source": [
    "scaler = StandardScaler()\n",
    "clust_hv_x = scaler.fit_transform(clust_hv_x)\n",
    "clust_d_x = scaler.fit_transform(clust_d_x)"
   ]
  },
  {
   "cell_type": "markdown",
   "metadata": {},
   "source": [
    "..."
   ]
  },
  {
   "cell_type": "markdown",
   "metadata": {},
   "source": [
    "## 2.6. Finding Groups"
   ]
  },
  {
   "cell_type": "markdown",
   "metadata": {},
   "source": [
    "https://realpython.com/k-means-clustering-python/"
   ]
  },
  {
   "cell_type": "markdown",
   "metadata": {},
   "source": [
    "We now need to fit a k-means model to the data however how can we know how many clusters to use? There are two awnsers, we can use the elbow method and the silhouette coefficient. For a more informed decision we will use both and for the two pre processed datasets."
   ]
  },
  {
   "cell_type": "code",
   "execution_count": null,
   "metadata": {},
   "outputs": [],
   "source": [
    "from sklearn.cluster import KMeans"
   ]
  },
  {
   "cell_type": "markdown",
   "metadata": {},
   "source": [
    "### 2.6.1. Elbow method"
   ]
  },
  {
   "cell_type": "markdown",
   "metadata": {},
   "source": [
    "First lets define SSE: SSE is the sum of the squared error between each observation and the cluster centroid.\n",
    "\n",
    "The elbow method just calculates the SSE for different k values in the k-means. As more centroids are added the distance from each point to its closest centroid will decrease. When this is done it is possible to see that as we increase the k value the value of SSE will decrease. \\\n",
    "Lets define a function that calculates the SSE for multiple k values:"
   ]
  },
  {
   "cell_type": "code",
   "execution_count": null,
   "metadata": {},
   "outputs": [],
   "source": [
    "def calculate_sse(data, search_range, kmeans_kwargs):\n",
    "    # A list holds the SSE values for each k\n",
    "    sse = []\n",
    "    for k in range(*search_range):\n",
    "        kmeans = KMeans(n_clusters=k, **kmeans_kwargs)\n",
    "        kmeans.fit(clust_hv_x)\n",
    "        sse.append(kmeans.inertia_)\n",
    "    return sse"
   ]
  },
  {
   "cell_type": "code",
   "execution_count": null,
   "metadata": {},
   "outputs": [],
   "source": [
    "kmeans_kwargs = {\n",
    "    \"init\": \"k-means++\",\n",
    "    \"random_state\": 42,\n",
    "}\n",
    "\n",
    "sse_hv = calculate_sse(clust_hv_x, [2, 20], kmeans_kwargs)\n",
    "sse_d = calculate_sse(clust_d_x, [2, 20], kmeans_kwargs)"
   ]
  },
  {
   "cell_type": "code",
   "execution_count": null,
   "metadata": {},
   "outputs": [],
   "source": [
    "def plot_sse(sse, search_range, title):\n",
    "    plt.style.use(\"fivethirtyeight\")\n",
    "    plt.plot(range(*search_range), sse)\n",
    "    plt.xticks(range(*search_range))\n",
    "    plt.xlabel(\"Number of Clusters\")\n",
    "    plt.ylabel(\"SSE\")\n",
    "    plt.title(title)\n",
    "    plt.show()"
   ]
  },
  {
   "cell_type": "code",
   "execution_count": null,
   "metadata": {},
   "outputs": [
    {
     "data": {
      "image/png": "[encoded data removed]",
      "text/plain": [
       "<Figure size 432x288 with 1 Axes>"
      ]
     },
     "metadata": {},
     "output_type": "display_data"
    },
    {
     "data": {
      "image/png": "[encoded data removed]",
      "text/plain": [
       "<Figure size 432x288 with 1 Axes>"
      ]
     },
     "metadata": {},
     "output_type": "display_data"
    }
   ],
   "source": [
    "plot_sse(sse_hv, [2, 20], \"Hit and valence\")\n",
    "plot_sse(sse_d, [2, 20], \"Decade\")"
   ]
  },
  {
   "cell_type": "markdown",
   "metadata": {},
   "source": [
    "Sometimes it is possible to see clearly where the elbow is which is a point where the SSE drops more than the usuall. On this case it not clear by eye. In order to find the optimal k we will use a python package called kneed."
   ]
  },
  {
   "cell_type": "code",
   "execution_count": null,
   "metadata": {},
   "outputs": [],
   "source": [
    "def find_opt_sse(sse, search_range):\n",
    "    kl = KneeLocator(\n",
    "        range(*search_range), sse, curve=\"convex\", direction=\"decreasing\"\n",
    "    )\n",
    "    kl.elbow\n",
    "    kl.plot_knee()"
   ]
  },
  {
   "cell_type": "code",
   "execution_count": null,
   "metadata": {},
   "outputs": [
    {
     "data": {
      "image/png": "[encoded data removed]",
      "text/plain": [
       "<Figure size 432x432 with 1 Axes>"
      ]
     },
     "metadata": {},
     "output_type": "display_data"
    },
    {
     "data": {
      "image/png": "[encoded data removed]",
      "text/plain": [
       "<Figure size 432x432 with 1 Axes>"
      ]
     },
     "metadata": {},
     "output_type": "display_data"
    }
   ],
   "source": [
    "find_opt_sse(sse_hv, [2,20])\n",
    "find_opt_sse(sse_d, [2,20])"
   ]
  },
  {
   "cell_type": "markdown",
   "metadata": {},
   "source": [
    "We now know that the optimal k according to SSE is 13."
   ]
  },
  {
   "cell_type": "markdown",
   "metadata": {},
   "source": [
    "### 2.6.2. Silhouette coefficient"
   ]
  },
  {
   "cell_type": "markdown",
   "metadata": {},
   "source": [
    "Its not by chance that we used the elbow method first. The calculation of the silhouette coefficient is much more costly in term of computation. For that reason we will use the result from the elbow method to restrict our search for the optimal silhouette coefficient.\n",
    "\n",
    "The silhouette coefficient measures cohesion and separation of the cluster by using the distance that each data point is to other points in the cluster and the distance that each point is to other points in other clusters. We of curse want to maximize the first and minimize the second."
   ]
  },
  {
   "cell_type": "code",
   "execution_count": null,
   "metadata": {},
   "outputs": [],
   "source": [
    "def calculate_silhouette_coefficients(data, search_range, kmeans_kwargs):\n",
    "    silhouette_coefficients = []\n",
    "    for k in range(*search_range):\n",
    "        kmeans = KMeans(n_clusters=k, **kmeans_kwargs)\n",
    "        kmeans.fit(clust_hv_x)\n",
    "        score = silhouette_score(clust_hv_x, kmeans.labels_)\n",
    "        silhouette_coefficients.append(score)\n",
    "    return silhouette_coefficients"
   ]
  },
  {
   "cell_type": "code",
   "execution_count": null,
   "metadata": {},
   "outputs": [],
   "source": [
    "coefficientes_hv = calculate_silhouette_coefficients(clust_hv_x, [11, 15], kmeans_kwargs)\n",
    "coefficientes_d = calculate_silhouette_coefficients(clust_d_x, [11, 15], kmeans_kwargs)"
   ]
  },
  {
   "cell_type": "code",
   "execution_count": null,
   "metadata": {},
   "outputs": [],
   "source": [
    "def plot_silhouette_coefficients(coefficientes, search_range, title):\n",
    "    plt.style.use(\"fivethirtyeight\")\n",
    "    plt.plot(range(*search_range), coefficientes)\n",
    "    plt.xticks(range(*search_range))\n",
    "    plt.xlabel(\"Number of Clusters\")\n",
    "    plt.ylabel(\"Silhouette Coefficient\")\n",
    "    plt.title(title)\n",
    "    plt.show()"
   ]
  },
  {
   "cell_type": "code",
   "execution_count": null,
   "metadata": {},
   "outputs": [
    {
     "data": {
      "image/png": "[encoded data removed]",
      "text/plain": [
       "<Figure size 432x288 with 1 Axes>"
      ]
     },
     "metadata": {},
     "output_type": "display_data"
    },
    {
     "data": {
      "image/png": "[encoded data removed]",
      "text/plain": [
       "<Figure size 432x288 with 1 Axes>"
      ]
     },
     "metadata": {},
     "output_type": "display_data"
    }
   ],
   "source": [
    "plot_silhouette_coefficients(coefficientes_hv, [11, 15], \"Hit and valence\")\n",
    "plot_silhouette_coefficients(coefficientes_d, [11, 15], \"Decade\")"
   ]
  },
  {
   "cell_type": "markdown",
   "metadata": {},
   "source": [
    "We can see that the silhouette coefficients shows us that k = 13 is the optimal number of clusters.\\\n",
    "Lets train the models."
   ]
  },
  {
   "cell_type": "code",
   "execution_count": null,
   "metadata": {},
   "outputs": [
    {
     "data": {
      "text/plain": [
       "KMeans(n_clusters=13, random_state=42)"
      ]
     },
     "execution_count": 144,
     "metadata": {},
     "output_type": "execute_result"
    }
   ],
   "source": [
    "kmeans_hv = KMeans(n_clusters=13, **kmeans_kwargs)\n",
    "kmeans_hv.fit(clust_hv_x)"
   ]
  },
  {
   "cell_type": "code",
   "execution_count": null,
   "metadata": {},
   "outputs": [
    {
     "data": {
      "text/plain": [
       "KMeans(n_clusters=13, random_state=42)"
      ]
     },
     "execution_count": 145,
     "metadata": {},
     "output_type": "execute_result"
    }
   ],
   "source": [
    "kmeans_d = KMeans(n_clusters=13, **kmeans_kwargs)\n",
    "kmeans_d.fit(clust_d_x)"
   ]
  },
  {
   "cell_type": "markdown",
   "metadata": {},
   "source": [
    "## 2.7. Clustering - Results and Discussion "
   ]
  },
  {
   "cell_type": "markdown",
   "metadata": {},
   "source": [
    "The best way to see the results is to understand which classes are in each clster. For that we created a function that counts the number of tagets in all clusters"
   ]
  },
  {
   "cell_type": "code",
   "execution_count": null,
   "metadata": {},
   "outputs": [],
   "source": [
    "import collections\n",
    "def get_cluster_dist(labels, target1, n, target2=None):\n",
    "    # Create n lists, each containing the index of the members of cluster i\n",
    "    results = [ [] for _ in range(n) ]\n",
    "    for i in range(len(labels)):\n",
    "        results[labels[i]].append(i)\n",
    "    \n",
    "    # For each member replace index for their correspondent target value\n",
    "    if(target2 is not None):\n",
    "        for i in range(len(results)):\n",
    "            results[i] = list(map(lambda x: (target1[x],target2[x]), results[i]))\n",
    "    else:\n",
    "        for i in range(len(results)):\n",
    "            results[i] = list(map(lambda x: target1[x], results[i]))\n",
    "        \n",
    "    # Count how many target values are in each cluster\n",
    "    counters = {}\n",
    "    for i in range(len(results)):\n",
    "        counters['Cluster ' + str(i + 1)] = collections.Counter(results[i])\n",
    "    \n",
    "    # Transform the dictionary of counters into a dataframe\n",
    "    columns, data = zip(*[(key, value) for key, value in counters.items()])\n",
    "    df = pd.DataFrame(data=list(data)).T.set_axis(columns, axis=1, inplace=False).T\n",
    "    \n",
    "    return df"
   ]
  },
  {
   "cell_type": "markdown",
   "metadata": {},
   "source": [
    "Lets plot the results..."
   ]
  },
  {
   "cell_type": "code",
   "execution_count": null,
   "metadata": {},
   "outputs": [
    {
     "data": {
      "text/plain": [
       "<AxesSubplot:>"
      ]
     },
     "execution_count": 147,
     "metadata": {},
     "output_type": "execute_result"
    },
    {
     "data": {
      "image/png": "[encoded data removed]",
      "text/plain": [
       "<Figure size 936x360 with 1 Axes>"
      ]
     },
     "metadata": {},
     "output_type": "display_data"
    }
   ],
   "source": [
    "clust_count = get_cluster_dist(kmeans_hv.labels_, clust_h_y, 13, clust_v_y)\n",
    "clust_count.plot(kind='bar', figsize=(13,5))"
   ]
  },
  {
   "cell_type": "markdown",
   "metadata": {},
   "source": [
    "Cluster 2 has a very intering result because almost of its songs are not a hit and have negative valence.\\\n",
    "For the other clusters you can see that the model was unable to separate songs in clusters of hit songs with similar valences. All the other clusters seem to have a mix of all the combinations."
   ]
  },
  {
   "cell_type": "markdown",
   "metadata": {},
   "source": [
    "Lets see if we the model did better in separating songs by decade."
   ]
  },
  {
   "cell_type": "code",
   "execution_count": null,
   "metadata": {},
   "outputs": [
    {
     "data": {
      "text/plain": [
       "<AxesSubplot:>"
      ]
     },
     "execution_count": 148,
     "metadata": {},
     "output_type": "execute_result"
    },
    {
     "data": {
      "image/png": "[encoded data removed]",
      "text/plain": [
       "<Figure size 936x360 with 1 Axes>"
      ]
     },
     "metadata": {},
     "output_type": "display_data"
    }
   ],
   "source": [
    "clust_count = get_cluster_dist(kmeans_d.labels_, clust_d_y, 13)\n",
    "clust_count.plot(kind='bar', figsize=(13,5))"
   ]
  },
  {
   "cell_type": "markdown",
   "metadata": {},
   "source": [
    "The result is the same. All the clusters have a mix of all decades. This means the model was not able to separate the songs by decade."
   ]
  },
  {
   "cell_type": "markdown",
   "metadata": {},
   "source": [
    "## 3. Final Comments and Conclusions"
   ]
  },
  {
   "cell_type": "markdown",
   "metadata": {},
   "source": [
    "- Dataset had a lot of data that did not make sense and for that reason was removed\n",
    "- Support Vector Machine had great performance however it takes a lot of time to fit and find the best hyperparameters\n",
    "- K-Nearest Neighbors performance is not bad and as a plus is fast to compute\n",
    "- Association rule mining allowed us to get some very instering conclusions however it was influenced a lot by the inbaleced dataset \n",
    "- KMeans had awful results. The model was not capable of separating the features we were looking for"
   ]
  }
 ],
 "metadata": {
  "kernelspec": {
   "display_name": "Python 3 (ipykernel)",
   "language": "python",
   "name": "python3"
  },
  "language_info": {
   "codemirror_mode": {
    "name": "ipython",
    "version": 3
   },
   "file_extension": ".py",
   "mimetype": "text/x-python",
   "name": "python",
   "nbconvert_exporter": "python",
   "pygments_lexer": "ipython3",
   "version": "3.9.12"
  }
 },
 "nbformat": 4,
 "nbformat_minor": 4
}
